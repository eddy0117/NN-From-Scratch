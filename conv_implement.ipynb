{
 "cells": [
  {
   "cell_type": "markdown",
   "metadata": {},
   "source": [
    "### 筆記\n"
   ]
  },
  {
   "cell_type": "code",
   "execution_count": 2,
   "metadata": {},
   "outputs": [],
   "source": [
    "import numpy as np\n",
    "\n",
    "def im2col(input_feat: np.ndarray, N, kh, kw, out_h, out_w, stride):\n",
    "    im2col_feat = []\n",
    "    for n in range(N):\n",
    "        for ih in range(out_h):\n",
    "            for iw in range(out_w):\n",
    "                im2col_feat.append(input_feat[n, :, stride * ih:stride * ih + kh, stride * iw:stride * iw + kw])\n",
    "                # each element -> (C, kh, kw)\n",
    "    # input_feat -> (N*out_h*out_w, C, kh, kw)\n",
    "\n",
    "    return np.array(im2col_feat).reshape(N * out_h * out_w, -1)\n",
    "\n",
    "def convolution(input_feat: np.ndarray, filter: np.ndarray, kh, kw, stride=1, padding=0, bias=None):\n",
    "    '''\n",
    "    input_feat: (N, C, H, W)\n",
    "    filter: (out_C, in_C, kH, kw)\n",
    "    bias: (out_C, 1)\n",
    "    '''\n",
    "    N, C, H, W = input_feat.shape\n",
    "    out_h = int((H - kh + 2 * padding) // stride) + 1\n",
    "    out_w = int((W - kw + 2 * padding) // stride) + 1\n",
    "    out_c = filter.shape[0]\n",
    "    \n",
    "    if padding:\n",
    "        input_feat = np.pad(input_feat, ((0, 0), (0, 0), (padding, padding), (padding, padding)), 'constant', constant_values=0)\n",
    "\n",
    "    im2col_feat = im2col(input_feat, N, kh, kw, out_h, out_w, stride)\n",
    "    # im2col -> (N*out_h*out_w, C*kh*kw)\n",
    "\n",
    "    filter = filter.reshape(out_c, -1)\n",
    "    # filter -> (out_c, C*kh*kw)\n",
    "\n",
    "    # w @ x.T\n",
    "    # w -> (out_c, C*kh*kw)\n",
    "    # x.T -> (C*kh*kw, N*out_h*out_w)\n",
    "    if isinstance(bias, np.ndarray):\n",
    "        out_feat = filter @ im2col_feat.T + bias\n",
    "    else:\n",
    "        out_feat = filter @ im2col_feat.T\n",
    "    # out_feat -> (out_c, N*out_h*out_w)\n",
    "    \n",
    "    # 直接將 (out_c, N*out_h*out_w) reshape 成 (N, out_c, out_h, out_w) 會產生順序錯亂\n",
    "    # 所以先將 (out_c, N*out_h*out_w) 拆成 (out_c, N, out_h, out_w) 後再 permute\n",
    "    # out_feat -> (N, out_c, out_h, out_w)\n",
    "    return out_feat.reshape(out_c, N, out_h, out_w).transpose(1, 0, 2, 3)\n",
    "    # return out_feat.T.reshape(N, out_h, out_w, out_c).transpose(0, 3, 1, 2)\n",
    "   \n",
    "    \n",
    "            "
   ]
  },
  {
   "cell_type": "code",
   "execution_count": null,
   "metadata": {},
   "outputs": [],
   "source": [
    "import torch\n",
    "import torch.nn.functional as F\n",
    "\n",
    "# input feat (c, h, w) -> (3, 3, 3)\n",
    "# filter (out_c, in_c, kh, kw) -> (3, 3, 2, 2)\n",
    "# bias (out_c, 1)\n",
    "bs = 2\n",
    "feat_h = 3\n",
    "feat_w = 3\n",
    "kh = 2\n",
    "kw = 2\n",
    "in_c = 3\n",
    "out_c = 3\n",
    "padding = 0\n",
    "stride = 1\n",
    "\n",
    "input_feat = np.random.randint(0, 20, size=(bs, in_c, feat_h, feat_w)).astype(np.float32)\n",
    "filter = np.random.randint(0, 5, size=(out_c, in_c, kh, kw)).astype(np.float32)\n",
    "# bias = np.random.randint(0, 5, size=(2, 1))\n",
    "bias = np.zeros((out_c, 1), dtype=np.float32)\n",
    "\n",
    "out = convolution(input_feat, filter, kh=kh, kw=kw, stride=stride, padding=padding, bias=bias)\n",
    "\n",
    "# 與 pytorch 的實現方法對照結果\n",
    "out_t = F.conv2d(torch.tensor(input_feat), torch.tensor(filter), stride=stride, padding=padding, bias=torch.tensor(bias).squeeze(1))\n",
    "\n",
    "\n",
    "print(f'input feat:\\n{input_feat}')\n",
    "print('======================')\n",
    "print(f'filter\\n:{filter}')\n",
    "print('======================')\n",
    "print(f'my out:\\n{out}')\n",
    "print(f'torch out:\\n{out_t.numpy()}')\n",
    "np.allclose(out, out_t)\n",
    "\n"
   ]
  },
  {
   "cell_type": "code",
   "execution_count": null,
   "metadata": {},
   "outputs": [],
   "source": [
    "import numpy as np\n",
    "\n",
    "# 固定隨機種子，確保同參數下每次結果都相同\n",
    "np.random.seed(1)\n",
    "\n",
    "def wine():\n",
    "    with open('data/winequality-red.csv') as f:\n",
    "        # 跳過 first row (標籤名稱)\n",
    "        data = f.readlines()[1:]\n",
    "\n",
    "    data = [line.strip().split(',') for line in data]\n",
    "\n",
    "    data = np.array(data)\n",
    "    labels = []\n",
    "\n",
    "    # 最後一個 column 為 label\n",
    "    classes = np.unique(data[:, -1])\n",
    "\n",
    "    # 將 label 做 one-hot encoding\n",
    "    for d in data:\n",
    "        for cls in classes:\n",
    "            if d[-1] == cls:\n",
    "                one_hot = np.zeros(len(classes))\n",
    "                one_hot[classes.tolist().index(cls)] = 1\n",
    "                labels.append(one_hot)\n",
    "    return data, labels\n",
    "\n",
    "def iris():\n",
    "    with open('data/Iris.csv') as f:\n",
    "    # 跳過 first row (標籤名稱)\n",
    "        data = f.readlines()[1:]\n",
    "\n",
    "    data = [line.strip().split(',')[1:] for line in data]\n",
    "    data = np.array(data)\n",
    "    labels = []\n",
    "\n",
    "    classes = np.unique(data[:, 4])\n",
    "\n",
    "    # 將 label 做 one-hot encoding\n",
    "    for d in data:\n",
    "        for cls in classes:\n",
    "            if d[4] == cls:\n",
    "                one_hot = np.zeros(len(classes))\n",
    "                one_hot[classes.tolist().index(cls)] = 1\n",
    "                labels.append(one_hot)\n",
    "    return data, labels\n",
    "\n",
    "# data, labels = iris()\n",
    "data, labels = wine()\n",
    "# 將 input features 與 labels 從原始資料中分離\n",
    "inputs = data[:, :-1].astype(np.float32)\n",
    "labels = np.array(labels)\n",
    "\n",
    "# 對 input features 做標準化\n",
    "inputs = (inputs - np.mean(inputs, axis=0)) / np.std(inputs, axis=0)\n",
    "\n",
    "# 打亂數據\n",
    "idx = np.random.permutation(len(inputs))\n",
    "\n",
    "X_data = inputs[idx]\n",
    "Y_data = labels[idx]\n",
    "\n",
    "# 設定 train set 和 val set 的比例 (80% train, 20% val)\n",
    "train_size = int(len(X_data) * 0.80)\n",
    "\n",
    "\n",
    "X_train, Y_train = X_data[:train_size], Y_data[:train_size]\n",
    "X_val, Y_val = X_data[train_size:], Y_data[train_size:]\n",
    "\n",
    "hyper_params = {\n",
    "    'lr': 0.01,\n",
    "    'epoch': 50,\n",
    "    'batch_size': 16,\n",
    "    'alpha': 0.9\n",
    "}\n",
    "\n",
    "\n",
    "model = MyModel([Linear(11, 6), \n",
    "                 LeckyReLU(),\n",
    "                 Linear(6, 6),\n",
    "                 Softmax()])\n",
    "\n",
    "# model = MyModel([Linear(4, 3), Softmax()])\n",
    "\n",
    "params = model.train(X_train, Y_train, X_val, Y_val, CrossEntropyLoss, hyper_params, show_plot=True)\n",
    "# mlp.kfold(X_data, Y_data, FOLD, SquareLoss, hyper_params)\n"
   ]
  },
  {
   "cell_type": "code",
   "execution_count": 6,
   "metadata": {},
   "outputs": [
    {
     "name": "stdout",
     "output_type": "stream",
     "text": [
      "b:\n",
      " [[[[ 6.  0.  6.]\n",
      "   [ 0.  0.  0.]\n",
      "   [ 1.  0. 19.]]\n",
      "\n",
      "  [[16.  0. 12.]\n",
      "   [ 0.  0.  0.]\n",
      "   [18.  0. 18.]]\n",
      "\n",
      "  [[16.  0. 11.]\n",
      "   [ 0.  0.  0.]\n",
      "   [18.  0. 17.]]]]\n"
     ]
    }
   ],
   "source": [
    "images = np.random.randint(0, 255, size=(4, 3, 5, 5)).astype(np.float32)\n",
    "labels = np.array([[0, 1, 0], [0, 0, 1], [1, 0, 0], [0, 1, 0]])\n",
    "\n",
    "model = MyModel([Conv2d(3, 1, (3, 3), 2, 0), \n",
    "                LeckyReLU(),\n",
    "                Flatten(),\n",
    "                Linear(2*2*1, 3),\n",
    "                Softmax()])\n",
    "\n",
    "hyper_params = {    \n",
    "    'lr': 0.01,\n",
    "    'epoch': 2,\n",
    "    'batch_size': 2,\n",
    "    'alpha': 0.9\n",
    "}\n",
    "model.train(images, labels, images, labels, CrossEntropyLoss, hyper_params, show_plot=True)"
   ]
  },
  {
   "cell_type": "code",
   "execution_count": 20,
   "metadata": {},
   "outputs": [
    {
     "name": "stdout",
     "output_type": "stream",
     "text": [
      "a:\n",
      " [[[[12. 19.  9. 17.  2.  7. 18.]\n",
      "   [ 2.  8.  7. 15. 17.  2. 11.]\n",
      "   [ 9.  3. 13.  5. 12.  4.  5.]\n",
      "   [17. 10.  9.  5. 17.  8. 13.]\n",
      "   [ 6. 19.  3. 13. 10.  6.  4.]\n",
      "   [ 4.  9. 17. 11.  6.  2.  0.]\n",
      "   [ 8. 18. 17. 18.  4. 11.  0.]]]\n",
      "\n",
      "\n",
      " [[[18.  4.  5. 12.  8.  7. 16.]\n",
      "   [15. 11. 11. 19. 18. 13.  8.]\n",
      "   [ 5. 14. 10.  4.  3. 13.  1.]\n",
      "   [ 1. 15. 15. 19. 13.  1.  2.]\n",
      "   [18. 15. 19.  5. 17.  5. 13.]\n",
      "   [16.  2.  1.  5.  6.  0. 19.]\n",
      "   [15.  0. 19.  5. 18. 15. 13.]]]]\n",
      "b:\n",
      " [[[[12. 19.  9. 17.  2.  7. 18.]\n",
      "   [ 2.  8.  7. 15. 17.  2. 11.]\n",
      "   [ 9.  3. 13.  5. 12.  4.  5.]\n",
      "   [17. 10.  9.  5. 17.  8. 13.]\n",
      "   [ 6. 19.  3. 13. 10.  6.  4.]\n",
      "   [ 4.  9. 17. 11.  6.  2.  0.]\n",
      "   [ 8. 18. 17. 18.  4. 11.  0.]]\n",
      "\n",
      "  [[12. 19.  9. 17.  2.  7. 18.]\n",
      "   [ 2.  8.  7. 15. 17.  2. 11.]\n",
      "   [ 9.  3. 13.  5. 12.  4.  5.]\n",
      "   [17. 10.  9.  5. 17.  8. 13.]\n",
      "   [ 6. 19.  3. 13. 10.  6.  4.]\n",
      "   [ 4.  9. 17. 11.  6.  2.  0.]\n",
      "   [ 8. 18. 17. 18.  4. 11.  0.]]\n",
      "\n",
      "  [[12. 19.  9. 17.  2.  7. 18.]\n",
      "   [ 2.  8.  7. 15. 17.  2. 11.]\n",
      "   [ 9.  3. 13.  5. 12.  4.  5.]\n",
      "   [17. 10.  9.  5. 17.  8. 13.]\n",
      "   [ 6. 19.  3. 13. 10.  6.  4.]\n",
      "   [ 4.  9. 17. 11.  6.  2.  0.]\n",
      "   [ 8. 18. 17. 18.  4. 11.  0.]]]\n",
      "\n",
      "\n",
      " [[[18.  4.  5. 12.  8.  7. 16.]\n",
      "   [15. 11. 11. 19. 18. 13.  8.]\n",
      "   [ 5. 14. 10.  4.  3. 13.  1.]\n",
      "   [ 1. 15. 15. 19. 13.  1.  2.]\n",
      "   [18. 15. 19.  5. 17.  5. 13.]\n",
      "   [16.  2.  1.  5.  6.  0. 19.]\n",
      "   [15.  0. 19.  5. 18. 15. 13.]]\n",
      "\n",
      "  [[18.  4.  5. 12.  8.  7. 16.]\n",
      "   [15. 11. 11. 19. 18. 13.  8.]\n",
      "   [ 5. 14. 10.  4.  3. 13.  1.]\n",
      "   [ 1. 15. 15. 19. 13.  1.  2.]\n",
      "   [18. 15. 19.  5. 17.  5. 13.]\n",
      "   [16.  2.  1.  5.  6.  0. 19.]\n",
      "   [15.  0. 19.  5. 18. 15. 13.]]\n",
      "\n",
      "  [[18.  4.  5. 12.  8.  7. 16.]\n",
      "   [15. 11. 11. 19. 18. 13.  8.]\n",
      "   [ 5. 14. 10.  4.  3. 13.  1.]\n",
      "   [ 1. 15. 15. 19. 13.  1.  2.]\n",
      "   [18. 15. 19.  5. 17.  5. 13.]\n",
      "   [16.  2.  1.  5.  6.  0. 19.]\n",
      "   [15.  0. 19.  5. 18. 15. 13.]]]]\n",
      "(2, 1, 7, 7) (2, 3, 7, 7)\n"
     ]
    }
   ],
   "source": [
    "import numpy as np\n",
    "a = np.random.randint(0, 20, size=(2, 1, 7, 7)).astype(np.float32)\n",
    "b = np.tile(a, (1, 3, 1, 1))\n",
    "print('a:\\n', a)\n",
    "print('b:\\n', b)\n",
    "print(a.shape, b.shape)\n"
   ]
  },
  {
   "cell_type": "code",
   "execution_count": 13,
   "metadata": {},
   "outputs": [],
   "source": [
    "import numpy as np\n",
    "\n",
    "class Tensor(np.ndarray):\n",
    "    def __new__(cls, input_array, requires_grad=False):\n",
    "        # 建立 ndarray 的子類\n",
    "        obj = np.asarray(input_array).view(cls)\n",
    "        obj.requires_grad = requires_grad\n",
    "        obj.grad = None  # 儲存梯度\n",
    "        obj._grad_fn = None  # 計算梯度的函數\n",
    "        return obj\n",
    "\n",
    "    def __array_finalize__(self, obj):\n",
    "        # 當新 Tensor 被創建時，繼承屬性\n",
    "        if obj is None: return\n",
    "        self.requires_grad = getattr(obj, 'requires_grad', False)\n",
    "        self.grad = getattr(obj, 'grad', None)\n",
    "        self._grad_fn = getattr(obj, '_grad_fn', None)\n",
    "\n",
    "    def backward(self, grad_output=None):\n",
    "        if not self.requires_grad:\n",
    "            raise RuntimeError(\"This tensor does not require gradients.\")\n",
    "        \n",
    "        if grad_output is None:\n",
    "            grad_output = np.ones_like(self)\n",
    "        \n",
    "        if self.grad is None:\n",
    "            self.grad = grad_output\n",
    "        else:\n",
    "            self.grad += grad_output\n",
    "\n",
    "        if self._grad_fn:\n",
    "            self._grad_fn(grad_output)\n",
    "\n",
    "    def __repr__(self):\n",
    "        return f\"Tensor({super().__repr__()}, requires_grad={self.requires_grad})\"\n"
   ]
  },
  {
   "cell_type": "code",
   "execution_count": 28,
   "metadata": {},
   "outputs": [
    {
     "data": {
      "text/plain": [
       "Tensor(Tensor([[1, 2],\n",
       "        [3, 4]]), requires_grad=False)"
      ]
     },
     "execution_count": 28,
     "metadata": {},
     "output_type": "execute_result"
    }
   ],
   "source": [
    "b = np.array([[1, 2], [3, 4]])\n",
    "a = Tensor(b)\n",
    "a\n"
   ]
  },
  {
   "cell_type": "code",
   "execution_count": 7,
   "metadata": {},
   "outputs": [
    {
     "name": "stdout",
     "output_type": "stream",
     "text": [
      "a:\n",
      " [[[17.  2.]\n",
      "  [ 6. 16.]]\n",
      "\n",
      " [[10. 17.]\n",
      "  [10.  0.]]\n",
      "\n",
      " [[11. 10.]\n",
      "  [16.  0.]]]\n",
      "b:\n",
      " [[[ 5. 18.]\n",
      "  [ 0. 18.]]\n",
      "\n",
      " [[ 4.  5.]\n",
      "  [19. 17.]]\n",
      "\n",
      " [[15. 15.]\n",
      "  [19.  1.]]]\n",
      "ab\n",
      " [[[ 85. 342.]\n",
      "  [ 30. 396.]]\n",
      "\n",
      " [[363. 339.]\n",
      "  [ 40.  50.]]\n",
      "\n",
      " [[355. 175.]\n",
      "  [240. 240.]]]\n"
     ]
    }
   ],
   "source": [
    "import numpy as np\n",
    "a = np.random.randint(0, 20, size=(3, 2, 2)).astype(np.float32)\n",
    "b = np.random.randint(0, 20, size=(3, 2, 2)).astype(np.float32)\n",
    "print('a:\\n', a)\n",
    "print('b:\\n', b)\n",
    "print('ab\\n', a @ b)"
   ]
  },
  {
   "cell_type": "code",
   "execution_count": 1,
   "metadata": {},
   "outputs": [
    {
     "name": "stderr",
     "output_type": "stream",
     "text": [
      "Epoch 0 train: 100%|██████████| 33/33 [00:03<00:00,  9.47it/s]\n"
     ]
    },
    {
     "name": "stdout",
     "output_type": "stream",
     "text": [
      "train Loss: 2.3095\n"
     ]
    },
    {
     "name": "stderr",
     "output_type": "stream",
     "text": [
      "val: 100%|██████████| 9/9 [00:00<00:00, 179.41it/s]\n"
     ]
    },
    {
     "name": "stdout",
     "output_type": "stream",
     "text": [
      "val Loss: 2.5092\n",
      "Val Acc:12.11 %\n"
     ]
    },
    {
     "name": "stderr",
     "output_type": "stream",
     "text": [
      "Epoch 1 train: 100%|██████████| 33/33 [00:03<00:00, 10.15it/s]\n"
     ]
    },
    {
     "name": "stdout",
     "output_type": "stream",
     "text": [
      "train Loss: 2.2732\n"
     ]
    },
    {
     "name": "stderr",
     "output_type": "stream",
     "text": [
      "val: 100%|██████████| 9/9 [00:00<00:00, 207.20it/s]\n"
     ]
    },
    {
     "name": "stdout",
     "output_type": "stream",
     "text": [
      "val Loss: 2.4405\n",
      "Val Acc:14.67 %\n"
     ]
    },
    {
     "name": "stderr",
     "output_type": "stream",
     "text": [
      "Epoch 2 train: 100%|██████████| 33/33 [00:03<00:00,  9.92it/s]\n"
     ]
    },
    {
     "name": "stdout",
     "output_type": "stream",
     "text": [
      "train Loss: 2.1386\n"
     ]
    },
    {
     "name": "stderr",
     "output_type": "stream",
     "text": [
      "val: 100%|██████████| 9/9 [00:00<00:00, 191.77it/s]\n"
     ]
    },
    {
     "name": "stdout",
     "output_type": "stream",
     "text": [
      "val Loss: 2.1394\n",
      "Val Acc:43.11 %\n"
     ]
    },
    {
     "name": "stderr",
     "output_type": "stream",
     "text": [
      "Epoch 3 train: 100%|██████████| 33/33 [00:03<00:00,  9.93it/s]\n"
     ]
    },
    {
     "name": "stdout",
     "output_type": "stream",
     "text": [
      "train Loss: 1.6462\n"
     ]
    },
    {
     "name": "stderr",
     "output_type": "stream",
     "text": [
      "val: 100%|██████████| 9/9 [00:00<00:00, 194.77it/s]\n"
     ]
    },
    {
     "name": "stdout",
     "output_type": "stream",
     "text": [
      "val Loss: 1.6712\n",
      "Val Acc:44.56 %\n"
     ]
    },
    {
     "name": "stderr",
     "output_type": "stream",
     "text": [
      "Epoch 4 train: 100%|██████████| 33/33 [00:03<00:00, 10.01it/s]\n"
     ]
    },
    {
     "name": "stdout",
     "output_type": "stream",
     "text": [
      "train Loss: 2.2827\n"
     ]
    },
    {
     "name": "stderr",
     "output_type": "stream",
     "text": [
      "val: 100%|██████████| 9/9 [00:00<00:00, 201.78it/s]\n"
     ]
    },
    {
     "name": "stdout",
     "output_type": "stream",
     "text": [
      "val Loss: 2.5535\n",
      "Val Acc:6.329999999999999 %\n"
     ]
    },
    {
     "name": "stderr",
     "output_type": "stream",
     "text": [
      "Epoch 5 train: 100%|██████████| 33/33 [00:03<00:00,  9.95it/s]\n"
     ]
    },
    {
     "name": "stdout",
     "output_type": "stream",
     "text": [
      "train Loss: 2.3271\n"
     ]
    },
    {
     "name": "stderr",
     "output_type": "stream",
     "text": [
      "val: 100%|██████████| 9/9 [00:00<00:00, 187.26it/s]\n"
     ]
    },
    {
     "name": "stdout",
     "output_type": "stream",
     "text": [
      "val Loss: 2.5135\n",
      "Val Acc:7.5600000000000005 %\n"
     ]
    },
    {
     "name": "stderr",
     "output_type": "stream",
     "text": [
      "Epoch 6 train: 100%|██████████| 33/33 [00:03<00:00, 10.00it/s]\n"
     ]
    },
    {
     "name": "stdout",
     "output_type": "stream",
     "text": [
      "train Loss: 2.2838\n"
     ]
    },
    {
     "name": "stderr",
     "output_type": "stream",
     "text": [
      "val: 100%|██████████| 9/9 [00:00<00:00, 195.93it/s]\n"
     ]
    },
    {
     "name": "stdout",
     "output_type": "stream",
     "text": [
      "val Loss: 2.4677\n",
      "Val Acc:16.0 %\n"
     ]
    },
    {
     "name": "stderr",
     "output_type": "stream",
     "text": [
      "Epoch 7 train: 100%|██████████| 33/33 [00:03<00:00,  9.90it/s]\n"
     ]
    },
    {
     "name": "stdout",
     "output_type": "stream",
     "text": [
      "train Loss: 2.239\n"
     ]
    },
    {
     "name": "stderr",
     "output_type": "stream",
     "text": [
      "val: 100%|██████████| 9/9 [00:00<00:00, 194.16it/s]\n"
     ]
    },
    {
     "name": "stdout",
     "output_type": "stream",
     "text": [
      "val Loss: 2.4229\n",
      "Val Acc:24.22 %\n"
     ]
    },
    {
     "name": "stderr",
     "output_type": "stream",
     "text": [
      "Epoch 8 train: 100%|██████████| 33/33 [00:03<00:00,  9.92it/s]\n"
     ]
    },
    {
     "name": "stdout",
     "output_type": "stream",
     "text": [
      "train Loss: 2.1947\n"
     ]
    },
    {
     "name": "stderr",
     "output_type": "stream",
     "text": [
      "val: 100%|██████████| 9/9 [00:00<00:00, 196.83it/s]\n"
     ]
    },
    {
     "name": "stdout",
     "output_type": "stream",
     "text": [
      "val Loss: 2.3796\n",
      "Val Acc:32.89 %\n"
     ]
    },
    {
     "name": "stderr",
     "output_type": "stream",
     "text": [
      "Epoch 9 train: 100%|██████████| 33/33 [00:03<00:00,  9.84it/s]\n"
     ]
    },
    {
     "name": "stdout",
     "output_type": "stream",
     "text": [
      "train Loss: 2.1527\n"
     ]
    },
    {
     "name": "stderr",
     "output_type": "stream",
     "text": [
      "val: 100%|██████████| 9/9 [00:00<00:00, 196.17it/s]\n"
     ]
    },
    {
     "name": "stdout",
     "output_type": "stream",
     "text": [
      "val Loss: 2.3398\n",
      "Val Acc:41.78 %\n"
     ]
    },
    {
     "name": "stderr",
     "output_type": "stream",
     "text": [
      "Epoch 10 train: 100%|██████████| 33/33 [00:03<00:00,  9.84it/s]\n"
     ]
    },
    {
     "name": "stdout",
     "output_type": "stream",
     "text": [
      "train Loss: 2.1145\n"
     ]
    },
    {
     "name": "stderr",
     "output_type": "stream",
     "text": [
      "val: 100%|██████████| 9/9 [00:00<00:00, 192.11it/s]\n"
     ]
    },
    {
     "name": "stdout",
     "output_type": "stream",
     "text": [
      "val Loss: 2.3043\n",
      "Val Acc:48.89 %\n"
     ]
    },
    {
     "name": "stderr",
     "output_type": "stream",
     "text": [
      "Epoch 11 train: 100%|██████████| 33/33 [00:03<00:00,  9.88it/s]\n"
     ]
    },
    {
     "name": "stdout",
     "output_type": "stream",
     "text": [
      "train Loss: 2.0809\n"
     ]
    },
    {
     "name": "stderr",
     "output_type": "stream",
     "text": [
      "val: 100%|██████████| 9/9 [00:00<00:00, 188.05it/s]\n"
     ]
    },
    {
     "name": "stdout",
     "output_type": "stream",
     "text": [
      "val Loss: 2.2741\n",
      "Val Acc:53.669999999999995 %\n"
     ]
    },
    {
     "name": "stderr",
     "output_type": "stream",
     "text": [
      "Epoch 12 train: 100%|██████████| 33/33 [00:03<00:00,  9.97it/s]\n"
     ]
    },
    {
     "name": "stdout",
     "output_type": "stream",
     "text": [
      "train Loss: 2.0535\n"
     ]
    },
    {
     "name": "stderr",
     "output_type": "stream",
     "text": [
      "val: 100%|██████████| 9/9 [00:00<00:00, 193.37it/s]\n"
     ]
    },
    {
     "name": "stdout",
     "output_type": "stream",
     "text": [
      "val Loss: 2.2512\n",
      "Val Acc:56.11000000000001 %\n"
     ]
    },
    {
     "name": "stderr",
     "output_type": "stream",
     "text": [
      "Epoch 13 train: 100%|██████████| 33/33 [00:03<00:00,  9.97it/s]\n"
     ]
    },
    {
     "name": "stdout",
     "output_type": "stream",
     "text": [
      "train Loss: 2.034\n"
     ]
    },
    {
     "name": "stderr",
     "output_type": "stream",
     "text": [
      "val: 100%|██████████| 9/9 [00:00<00:00, 198.06it/s]\n"
     ]
    },
    {
     "name": "stdout",
     "output_type": "stream",
     "text": [
      "val Loss: 2.2371\n",
      "Val Acc:56.99999999999999 %\n"
     ]
    },
    {
     "name": "stderr",
     "output_type": "stream",
     "text": [
      "Epoch 14 train: 100%|██████████| 33/33 [00:03<00:00,  9.94it/s]\n"
     ]
    },
    {
     "name": "stdout",
     "output_type": "stream",
     "text": [
      "train Loss: 2.0324\n"
     ]
    },
    {
     "name": "stderr",
     "output_type": "stream",
     "text": [
      "val: 100%|██████████| 9/9 [00:00<00:00, 191.27it/s]\n"
     ]
    },
    {
     "name": "stdout",
     "output_type": "stream",
     "text": [
      "val Loss: 2.5751\n",
      "Val Acc:23.44 %\n"
     ]
    },
    {
     "name": "stderr",
     "output_type": "stream",
     "text": [
      "Epoch 15 train: 100%|██████████| 33/33 [00:03<00:00,  9.91it/s]\n"
     ]
    },
    {
     "name": "stdout",
     "output_type": "stream",
     "text": [
      "train Loss: 1.7595\n"
     ]
    },
    {
     "name": "stderr",
     "output_type": "stream",
     "text": [
      "val: 100%|██████████| 9/9 [00:00<00:00, 189.81it/s]\n"
     ]
    },
    {
     "name": "stdout",
     "output_type": "stream",
     "text": [
      "val Loss: 1.8972\n",
      "Val Acc:44.440000000000005 %\n"
     ]
    },
    {
     "name": "stderr",
     "output_type": "stream",
     "text": [
      "Epoch 16 train: 100%|██████████| 33/33 [00:03<00:00,  9.87it/s]\n"
     ]
    },
    {
     "name": "stdout",
     "output_type": "stream",
     "text": [
      "train Loss: 1.4429\n"
     ]
    },
    {
     "name": "stderr",
     "output_type": "stream",
     "text": [
      "val: 100%|██████████| 9/9 [00:00<00:00, 184.65it/s]\n"
     ]
    },
    {
     "name": "stdout",
     "output_type": "stream",
     "text": [
      "val Loss: 1.3796\n",
      "Val Acc:60.56 %\n"
     ]
    },
    {
     "name": "stderr",
     "output_type": "stream",
     "text": [
      "Epoch 17 train: 100%|██████████| 33/33 [00:03<00:00,  9.76it/s]\n"
     ]
    },
    {
     "name": "stdout",
     "output_type": "stream",
     "text": [
      "train Loss: 1.2598\n"
     ]
    },
    {
     "name": "stderr",
     "output_type": "stream",
     "text": [
      "val: 100%|██████████| 9/9 [00:00<00:00, 187.47it/s]\n"
     ]
    },
    {
     "name": "stdout",
     "output_type": "stream",
     "text": [
      "val Loss: 1.5258\n",
      "Val Acc:67.78 %\n"
     ]
    },
    {
     "name": "stderr",
     "output_type": "stream",
     "text": [
      "Epoch 18 train:   9%|▉         | 3/33 [00:00<00:03,  7.88it/s]\n"
     ]
    },
    {
     "ename": "KeyboardInterrupt",
     "evalue": "",
     "output_type": "error",
     "traceback": [
      "\u001b[0;31m---------------------------------------------------------------------------\u001b[0m",
      "\u001b[0;31mKeyboardInterrupt\u001b[0m                         Traceback (most recent call last)",
      "Cell \u001b[0;32mIn[1], line 72\u001b[0m\n\u001b[1;32m     61\u001b[0m \u001b[38;5;66;03m# model = MyModel([Flatten(), \u001b[39;00m\n\u001b[1;32m     62\u001b[0m \u001b[38;5;66;03m#                 Linear(28*28, 256), ReLU(),\u001b[39;00m\n\u001b[1;32m     63\u001b[0m \u001b[38;5;66;03m#                 Linear(256, 128), ReLU(),\u001b[39;00m\n\u001b[1;32m     64\u001b[0m \u001b[38;5;66;03m#                 Linear(128, 10), Softmax()])\u001b[39;00m\n\u001b[1;32m     66\u001b[0m hyper_params \u001b[38;5;241m=\u001b[39m {    \n\u001b[1;32m     67\u001b[0m     \u001b[38;5;124m'\u001b[39m\u001b[38;5;124mlr\u001b[39m\u001b[38;5;124m'\u001b[39m: \u001b[38;5;241m0.005\u001b[39m,\n\u001b[1;32m     68\u001b[0m     \u001b[38;5;124m'\u001b[39m\u001b[38;5;124mepoch\u001b[39m\u001b[38;5;124m'\u001b[39m: \u001b[38;5;241m50\u001b[39m,\n\u001b[1;32m     69\u001b[0m     \u001b[38;5;124m'\u001b[39m\u001b[38;5;124mbatch_size\u001b[39m\u001b[38;5;124m'\u001b[39m: \u001b[38;5;241m1024\u001b[39m,\n\u001b[1;32m     70\u001b[0m     \u001b[38;5;124m'\u001b[39m\u001b[38;5;124malpha\u001b[39m\u001b[38;5;124m'\u001b[39m: \u001b[38;5;241m0.9\u001b[39m\n\u001b[1;32m     71\u001b[0m }\n\u001b[0;32m---> 72\u001b[0m \u001b[43mmodel\u001b[49m\u001b[38;5;241;43m.\u001b[39;49m\u001b[43mtrain_with_dataset\u001b[49m\u001b[43m(\u001b[49m\u001b[43m(\u001b[49m\u001b[43mtorch\u001b[49m\u001b[38;5;241;43m.\u001b[39;49m\u001b[43mtensor\u001b[49m\u001b[43m(\u001b[49m\u001b[43mx_all\u001b[49m\u001b[43m)\u001b[49m\u001b[38;5;241;43m.\u001b[39;49m\u001b[43mcuda\u001b[49m\u001b[43m(\u001b[49m\u001b[43m)\u001b[49m\u001b[43m,\u001b[49m\u001b[43m \u001b[49m\u001b[43mtorch\u001b[49m\u001b[38;5;241;43m.\u001b[39;49m\u001b[43mtensor\u001b[49m\u001b[43m(\u001b[49m\u001b[43my_all\u001b[49m\u001b[43m)\u001b[49m\u001b[38;5;241;43m.\u001b[39;49m\u001b[43mcuda\u001b[49m\u001b[43m(\u001b[49m\u001b[43m)\u001b[49m\u001b[43m)\u001b[49m\u001b[43m,\u001b[49m\u001b[43m \u001b[49m\u001b[43mCrossEntropyLoss\u001b[49m\u001b[43m,\u001b[49m\u001b[43m \u001b[49m\u001b[43mhyper_params\u001b[49m\u001b[43m,\u001b[49m\u001b[43m \u001b[49m\u001b[43mshow_plot\u001b[49m\u001b[38;5;241;43m=\u001b[39;49m\u001b[38;5;28;43;01mTrue\u001b[39;49;00m\u001b[43m)\u001b[49m\n",
      "File \u001b[0;32m~/Programs/NumpyImplenmentNN/my_nn_lib_torch/model.py:139\u001b[0m, in \u001b[0;36mMyModel.train_with_dataset\u001b[0;34m(self, dataset, loss_func, hyper_params, show_plot)\u001b[0m\n\u001b[1;32m    136\u001b[0m X_batch, Y_batch \u001b[38;5;241m=\u001b[39m X_batch\u001b[38;5;241m.\u001b[39mcuda(), Y_batch\u001b[38;5;241m.\u001b[39mcuda()\n\u001b[1;32m    138\u001b[0m \u001b[38;5;28mself\u001b[39m\u001b[38;5;241m.\u001b[39mforward(X_batch)\n\u001b[0;32m--> 139\u001b[0m \u001b[38;5;28;43mself\u001b[39;49m\u001b[38;5;241;43m.\u001b[39;49m\u001b[43mbackward\u001b[49m\u001b[43m(\u001b[49m\u001b[43mY_batch\u001b[49m\u001b[43m)\u001b[49m\n\u001b[1;32m    140\u001b[0m \u001b[38;5;28mself\u001b[39m\u001b[38;5;241m.\u001b[39mupdate_params({\u001b[38;5;124m'\u001b[39m\u001b[38;5;124mlr\u001b[39m\u001b[38;5;124m'\u001b[39m: hyper_params[\u001b[38;5;124m'\u001b[39m\u001b[38;5;124mlr\u001b[39m\u001b[38;5;124m'\u001b[39m], \u001b[38;5;124m'\u001b[39m\u001b[38;5;124malpha\u001b[39m\u001b[38;5;124m'\u001b[39m: hyper_params[\u001b[38;5;124m'\u001b[39m\u001b[38;5;124malpha\u001b[39m\u001b[38;5;124m'\u001b[39m]})\n\u001b[1;32m    141\u001b[0m train_loss \u001b[38;5;241m+\u001b[39m\u001b[38;5;241m=\u001b[39m loss_func\u001b[38;5;241m.\u001b[39mcal_loss(\u001b[38;5;28mself\u001b[39m\u001b[38;5;241m.\u001b[39mget_pred(X_batch, with_onehot\u001b[38;5;241m=\u001b[39m\u001b[38;5;28;01mTrue\u001b[39;00m), Y_batch)\n",
      "File \u001b[0;32m~/Programs/NumpyImplenmentNN/my_nn_lib_torch/model.py:37\u001b[0m, in \u001b[0;36mMyModel.backward\u001b[0;34m(self, label)\u001b[0m\n\u001b[1;32m     32\u001b[0m dLdZ \u001b[38;5;241m=\u001b[39m label\n\u001b[1;32m     34\u001b[0m \u001b[38;5;28;01mfor\u001b[39;00m idx \u001b[38;5;129;01min\u001b[39;00m \u001b[38;5;28mrange\u001b[39m(idx_maxlayer, \u001b[38;5;241m-\u001b[39m\u001b[38;5;241m1\u001b[39m, \u001b[38;5;241m-\u001b[39m\u001b[38;5;241m1\u001b[39m):\n\u001b[1;32m     35\u001b[0m     \u001b[38;5;66;03m# 倒敘遍歷\u001b[39;00m\n\u001b[0;32m---> 37\u001b[0m     dLdZ \u001b[38;5;241m=\u001b[39m \u001b[38;5;28;43mself\u001b[39;49m\u001b[38;5;241;43m.\u001b[39;49m\u001b[43mlayers\u001b[49m\u001b[43m[\u001b[49m\u001b[43midx\u001b[49m\u001b[43m]\u001b[49m\u001b[38;5;241;43m.\u001b[39;49m\u001b[43mbackward\u001b[49m\u001b[43m(\u001b[49m\u001b[43mdelta\u001b[49m\u001b[38;5;241;43m=\u001b[39;49m\u001b[43mdLdZ\u001b[49m\u001b[43m)\u001b[49m\n",
      "File \u001b[0;32m~/Programs/NumpyImplenmentNN/my_nn_lib_torch/layers/conv.py:57\u001b[0m, in \u001b[0;36mConv2d.backward\u001b[0;34m(self, delta)\u001b[0m\n\u001b[1;32m     51\u001b[0m \u001b[38;5;28;01mdef\u001b[39;00m \u001b[38;5;21mbackward\u001b[39m(\u001b[38;5;28mself\u001b[39m, delta):\n\u001b[1;32m     52\u001b[0m     \u001b[38;5;66;03m# delta : (N, out_c, out_h, out_w)\u001b[39;00m\n\u001b[1;32m     53\u001b[0m     \n\u001b[1;32m     54\u001b[0m \n\u001b[1;32m     55\u001b[0m     \u001b[38;5;66;03m#  dLdZ -> (N, out_c*out_h*out_w)\u001b[39;00m\n\u001b[0;32m---> 57\u001b[0m     dLdZ \u001b[38;5;241m=\u001b[39m \u001b[38;5;28;43mself\u001b[39;49m\u001b[38;5;241;43m.\u001b[39;49m\u001b[43mcal_dLdZ\u001b[49m\u001b[43m(\u001b[49m\u001b[43mdelta\u001b[49m\u001b[43m,\u001b[49m\u001b[43m \u001b[49m\u001b[38;5;28;43mself\u001b[39;49m\u001b[38;5;241;43m.\u001b[39;49m\u001b[43mw\u001b[49m\u001b[43m)\u001b[49m\n\u001b[1;32m     58\u001b[0m     dW, db \u001b[38;5;241m=\u001b[39m \u001b[38;5;28mself\u001b[39m\u001b[38;5;241m.\u001b[39mcal_dLdW(\u001b[38;5;28mself\u001b[39m\u001b[38;5;241m.\u001b[39min_feat, delta)\n\u001b[1;32m     59\u001b[0m     \u001b[38;5;28mself\u001b[39m\u001b[38;5;241m.\u001b[39mparams_delta[\u001b[38;5;124m'\u001b[39m\u001b[38;5;124mdW\u001b[39m\u001b[38;5;124m'\u001b[39m] \u001b[38;5;241m=\u001b[39m dW\n",
      "File \u001b[0;32m~/Programs/NumpyImplenmentNN/my_nn_lib_torch/layers/conv.py:78\u001b[0m, in \u001b[0;36mConv2d.cal_dLdZ\u001b[0;34m(self, delta, filter)\u001b[0m\n\u001b[1;32m     75\u001b[0m \u001b[38;5;28mfilter\u001b[39m \u001b[38;5;241m=\u001b[39m torch\u001b[38;5;241m.\u001b[39mrot90(\u001b[38;5;28mfilter\u001b[39m, \u001b[38;5;241m2\u001b[39m, dims\u001b[38;5;241m=\u001b[39m(\u001b[38;5;241m2\u001b[39m, \u001b[38;5;241m3\u001b[39m))\n\u001b[1;32m     77\u001b[0m \u001b[38;5;66;03m# do dilation and padding\u001b[39;00m\n\u001b[0;32m---> 78\u001b[0m dilated_delta \u001b[38;5;241m=\u001b[39m \u001b[38;5;28;43mself\u001b[39;49m\u001b[38;5;241;43m.\u001b[39;49m\u001b[43mdilate\u001b[49m\u001b[43m(\u001b[49m\u001b[43mdelta\u001b[49m\u001b[43m,\u001b[49m\u001b[43m \u001b[49m\u001b[43mdilated_stride\u001b[49m\u001b[43m,\u001b[49m\u001b[43m \u001b[49m\u001b[43mdilated_padding\u001b[49m\u001b[43m)\u001b[49m\n\u001b[1;32m     81\u001b[0m dilated_delta \u001b[38;5;241m=\u001b[39m torch\u001b[38;5;241m.\u001b[39mtile(dilated_delta, (\u001b[38;5;241m1\u001b[39m, \u001b[38;5;28mself\u001b[39m\u001b[38;5;241m.\u001b[39min_channels, \u001b[38;5;241m1\u001b[39m, \u001b[38;5;241m1\u001b[39m))\n\u001b[1;32m     82\u001b[0m \u001b[38;5;66;03m# dilated_delta -> (N, ori_c*convd_c, convd_h, convd_w)\u001b[39;00m\n",
      "File \u001b[0;32m~/Programs/NumpyImplenmentNN/my_nn_lib_torch/layers/conv.py:115\u001b[0m, in \u001b[0;36mConv2d.dilate\u001b[0;34m(self, x, stride, padding)\u001b[0m\n\u001b[1;32m    113\u001b[0m dilated_h \u001b[38;5;241m=\u001b[39m x\u001b[38;5;241m.\u001b[39mshape[\u001b[38;5;241m2\u001b[39m] \u001b[38;5;241m+\u001b[39m (x\u001b[38;5;241m.\u001b[39mshape[\u001b[38;5;241m2\u001b[39m] \u001b[38;5;241m-\u001b[39m \u001b[38;5;241m1\u001b[39m) \u001b[38;5;241m*\u001b[39m (stride \u001b[38;5;241m-\u001b[39m \u001b[38;5;241m1\u001b[39m)\n\u001b[1;32m    114\u001b[0m dilated_w \u001b[38;5;241m=\u001b[39m x\u001b[38;5;241m.\u001b[39mshape[\u001b[38;5;241m3\u001b[39m] \u001b[38;5;241m+\u001b[39m (x\u001b[38;5;241m.\u001b[39mshape[\u001b[38;5;241m3\u001b[39m] \u001b[38;5;241m-\u001b[39m \u001b[38;5;241m1\u001b[39m) \u001b[38;5;241m*\u001b[39m (stride \u001b[38;5;241m-\u001b[39m \u001b[38;5;241m1\u001b[39m)\n\u001b[0;32m--> 115\u001b[0m dilated_feat \u001b[38;5;241m=\u001b[39m \u001b[43mtorch\u001b[49m\u001b[38;5;241;43m.\u001b[39;49m\u001b[43mzeros\u001b[49m\u001b[43m(\u001b[49m\u001b[43m(\u001b[49m\u001b[43mx\u001b[49m\u001b[38;5;241;43m.\u001b[39;49m\u001b[43mshape\u001b[49m\u001b[43m[\u001b[49m\u001b[38;5;241;43m0\u001b[39;49m\u001b[43m]\u001b[49m\u001b[43m,\u001b[49m\u001b[43m \u001b[49m\u001b[43mx\u001b[49m\u001b[38;5;241;43m.\u001b[39;49m\u001b[43mshape\u001b[49m\u001b[43m[\u001b[49m\u001b[38;5;241;43m1\u001b[39;49m\u001b[43m]\u001b[49m\u001b[43m,\u001b[49m\u001b[43m \u001b[49m\u001b[43mdilated_h\u001b[49m\u001b[43m,\u001b[49m\u001b[43m \u001b[49m\u001b[43mdilated_w\u001b[49m\u001b[43m)\u001b[49m\u001b[43m,\u001b[49m\u001b[43m \u001b[49m\u001b[43mdtype\u001b[49m\u001b[38;5;241;43m=\u001b[39;49m\u001b[43mx\u001b[49m\u001b[38;5;241;43m.\u001b[39;49m\u001b[43mdtype\u001b[49m\u001b[43m)\u001b[49m\u001b[38;5;241;43m.\u001b[39;49m\u001b[43mcuda\u001b[49m\u001b[43m(\u001b[49m\u001b[43m)\u001b[49m\n\u001b[1;32m    117\u001b[0m \u001b[38;5;28;01mif\u001b[39;00m stride:\n\u001b[1;32m    118\u001b[0m     dilated_feat[:, :, ::stride, ::stride] \u001b[38;5;241m=\u001b[39m x\n",
      "\u001b[0;31mKeyboardInterrupt\u001b[0m: "
     ]
    }
   ],
   "source": [
    "import os\n",
    "import cv2\n",
    "import numpy as np\n",
    "import torch\n",
    "from my_nn_lib_torch import MyModel, Linear, LeckyReLU, Softmax, ReLU, CrossEntropyLoss, Conv2d, Flatten\n",
    "import matplotlib.pyplot as plt\n",
    "path = 'data/MNIST'\n",
    "\n",
    "class_paths = os.listdir(path)\n",
    "\n",
    "x_all = []\n",
    "y_all = []\n",
    "\n",
    "for cls_path in class_paths:\n",
    "    img_paths = os.listdir(os.path.join(path, cls_path))\n",
    "    for img_path in img_paths:\n",
    "        img = cv2.imread(os.path.join(path, cls_path, img_path), cv2.IMREAD_GRAYSCALE)\n",
    "        img = cv2.resize(img, (28, 28))\n",
    "        x_all.append(img)\n",
    "        y_all.append(int(cls_path))\n",
    "x_all = np.array(x_all, dtype=np.float32)\n",
    "y_all = np.array(y_all, dtype=np.float32)\n",
    "\n",
    "x_all = x_all.reshape(-1, 1, 28, 28) / 255\n",
    "\n",
    "# one-hot encoding\n",
    "# y_one_hot = np.zeros((len(y_all), 10))\n",
    "# y_one_hot[np.arange(len(y_all)), y_all] = 1\n",
    "\n",
    "# shuffle data\n",
    "idx = np.arange(len(x_all))\n",
    "np.random.shuffle(idx)\n",
    "x_all = x_all[idx]\n",
    "# y_one_hot = y_one_hot[idx]\n",
    "y_all = y_all[idx]\n",
    "\n",
    "\n",
    "\n",
    "# split train and val\n",
    "# split_ratio = 0.8\n",
    "# split_idx = int(len(x_all) * split_ratio)\n",
    "# x_train = x_all[:split_idx]\n",
    "# y_train = y_one_hot[:split_idx]\n",
    "# x_val = x_all[split_idx:]\n",
    "# y_val = y_one_hot[split_idx:]\n",
    "\n",
    "# making some dummy data about 3 images with 3 channels and labels\n",
    "# images = np.random.randint(0, 255, size=(4, 3, 28, 28)).astype(np.float32) / 255\n",
    "# labels = np.array([[0, 1, 0], [0, 0, 1], [1, 0, 0], [0, 1, 0]])\n",
    "\n",
    "model = MyModel([Conv2d(1, 9, (7, 7), 1, 0), \n",
    "                LeckyReLU(),\n",
    "                Conv2d(9, 3, (5, 5), 1, 0),\n",
    "                LeckyReLU(),\n",
    "                Conv2d(3, 1, (1, 1), 1, 0),\n",
    "                LeckyReLU(),\n",
    "                Flatten(),\n",
    "                Linear(1*18*18, 10),\n",
    "                Softmax()])\n",
    "\n",
    "# model = MyModel([Flatten(), \n",
    "#                 Linear(28*28, 256), ReLU(),\n",
    "#                 Linear(256, 128), ReLU(),\n",
    "#                 Linear(128, 10), Softmax()])\n",
    "\n",
    "hyper_params = {    \n",
    "    'lr': 0.005,\n",
    "    'epoch': 50,\n",
    "    'batch_size': 1024,\n",
    "    'alpha': 0.9\n",
    "}\n",
    "model.train_with_dataset((torch.tensor(x_all).cuda(), torch.tensor(y_all).cuda()), CrossEntropyLoss, hyper_params, show_plot=True)\n",
    "    "
   ]
  },
  {
   "cell_type": "code",
   "execution_count": 2,
   "metadata": {},
   "outputs": [
    {
     "data": {
      "text/plain": [
       "<matplotlib.image.AxesImage at 0x7f6ed420b7c0>"
      ]
     },
     "execution_count": 2,
     "metadata": {},
     "output_type": "execute_result"
    },
    {
     "data": {
      "image/png": "[encoded data removed]",
      "text/plain": [
       "<Figure size 640x480 with 1 Axes>"
      ]
     },
     "metadata": {},
     "output_type": "display_data"
    }
   ],
   "source": [
    "import matplotlib.pyplot as plt\n",
    "model.layers[0].params_delta['dW'].shape\n",
    "plt.imshow(model.layers[0].params_delta['dW'][0].permute(1, 2, 0).cpu().numpy(), cmap='gray')"
   ]
  },
  {
   "cell_type": "code",
   "execution_count": 3,
   "metadata": {},
   "outputs": [
    {
     "name": "stdout",
     "output_type": "stream",
     "text": [
      "tensor([1], device='cuda:0')\n"
     ]
    },
    {
     "data": {
      "image/png": "[encoded data removed]",
      "text/plain": [
       "<Figure size 1000x1000 with 9 Axes>"
      ]
     },
     "metadata": {},
     "output_type": "display_data"
    }
   ],
   "source": [
    "\n",
    "\n",
    "target_layer = 1\n",
    "sample_idx = 41\n",
    "print(model.get_pred(torch.tensor(np.expand_dims(x_all[sample_idx], axis=0)).cuda(), with_onehot=False))\n",
    "\n",
    "plt.figure(figsize=(10, 10))\n",
    "plot_size = np.ceil(np.sqrt(len(model.layers[target_layer].in_feat[0]))).astype(int)\n",
    "for idx, activation in enumerate(model.layers[target_layer].in_feat[0]):\n",
    "    plt.subplot(plot_size, plot_size, idx + 1)    \n",
    "    plt.imshow(np.expand_dims(activation.cpu().numpy(), axis=0).transpose(1, 2, 0), cmap='gray')\n",
    "    "
   ]
  },
  {
   "cell_type": "code",
   "execution_count": 1,
   "metadata": {},
   "outputs": [
    {
     "name": "stdout",
     "output_type": "stream",
     "text": [
      "Files already downloaded and verified\n",
      "Epoch:  0\n"
     ]
    },
    {
     "name": "stderr",
     "output_type": "stream",
     "text": [
      "train::   0%|          | 0/625 [00:00<?, ?it/s]"
     ]
    },
    {
     "name": "stdout",
     "output_type": "stream",
     "text": [
      "torch.Size([1, 9]) torch.Size([1, 9, 1, 9])\n"
     ]
    },
    {
     "name": "stderr",
     "output_type": "stream",
     "text": [
      "\n"
     ]
    },
    {
     "ename": "RuntimeError",
     "evalue": "output with shape [1, 9] doesn't match the broadcast shape [1, 9, 1, 9]",
     "output_type": "error",
     "traceback": [
      "\u001b[0;31m---------------------------------------------------------------------------\u001b[0m",
      "\u001b[0;31mRuntimeError\u001b[0m                              Traceback (most recent call last)",
      "Cell \u001b[0;32mIn[1], line 29\u001b[0m\n\u001b[1;32m     15\u001b[0m model \u001b[38;5;241m=\u001b[39m MyModel([Conv2d(\u001b[38;5;241m3\u001b[39m, \u001b[38;5;241m9\u001b[39m, (\u001b[38;5;241m7\u001b[39m, \u001b[38;5;241m7\u001b[39m), \u001b[38;5;241m1\u001b[39m, \u001b[38;5;241m0\u001b[39m), \n\u001b[1;32m     16\u001b[0m                 LeckyReLU(),\n\u001b[1;32m     17\u001b[0m                 Conv2d(\u001b[38;5;241m9\u001b[39m, \u001b[38;5;241m3\u001b[39m, (\u001b[38;5;241m5\u001b[39m, \u001b[38;5;241m5\u001b[39m), \u001b[38;5;241m1\u001b[39m, \u001b[38;5;241m0\u001b[39m),\n\u001b[0;32m   (...)\u001b[0m\n\u001b[1;32m     20\u001b[0m                 Linear(\u001b[38;5;241m3\u001b[39m\u001b[38;5;241m*\u001b[39m\u001b[38;5;241m22\u001b[39m\u001b[38;5;241m*\u001b[39m\u001b[38;5;241m22\u001b[39m, \u001b[38;5;241m10\u001b[39m),\n\u001b[1;32m     21\u001b[0m                 Softmax()])\n\u001b[1;32m     23\u001b[0m hyper_params \u001b[38;5;241m=\u001b[39m {    \n\u001b[1;32m     24\u001b[0m     \u001b[38;5;124m'\u001b[39m\u001b[38;5;124mlr\u001b[39m\u001b[38;5;124m'\u001b[39m: \u001b[38;5;241m0.005\u001b[39m,\n\u001b[1;32m     25\u001b[0m     \u001b[38;5;124m'\u001b[39m\u001b[38;5;124mepoch\u001b[39m\u001b[38;5;124m'\u001b[39m: \u001b[38;5;241m10\u001b[39m,\n\u001b[1;32m     26\u001b[0m     \u001b[38;5;124m'\u001b[39m\u001b[38;5;124mbatch_size\u001b[39m\u001b[38;5;124m'\u001b[39m: \u001b[38;5;241m64\u001b[39m,\n\u001b[1;32m     27\u001b[0m     \u001b[38;5;124m'\u001b[39m\u001b[38;5;124malpha\u001b[39m\u001b[38;5;124m'\u001b[39m: \u001b[38;5;241m0.9\u001b[39m\n\u001b[1;32m     28\u001b[0m }\n\u001b[0;32m---> 29\u001b[0m \u001b[43mmodel\u001b[49m\u001b[38;5;241;43m.\u001b[39;49m\u001b[43mtrain_with_dataset\u001b[49m\u001b[43m(\u001b[49m\u001b[43mtrain_dataset\u001b[49m\u001b[43m,\u001b[49m\u001b[43m \u001b[49m\u001b[43mCrossEntropyLoss\u001b[49m\u001b[43m,\u001b[49m\u001b[43m \u001b[49m\u001b[43mhyper_params\u001b[49m\u001b[43m,\u001b[49m\u001b[43m \u001b[49m\u001b[43mshow_plot\u001b[49m\u001b[38;5;241;43m=\u001b[39;49m\u001b[38;5;28;43;01mTrue\u001b[39;49;00m\u001b[43m)\u001b[49m\n",
      "File \u001b[0;32m~/Programs/NumpyImplenmentNN/my_nn_lib_torch/model.py:136\u001b[0m, in \u001b[0;36mMyModel.train_with_dataset\u001b[0;34m(self, train_dataset, loss_func, hyper_params, show_plot)\u001b[0m\n\u001b[1;32m    134\u001b[0m \u001b[38;5;28mself\u001b[39m\u001b[38;5;241m.\u001b[39mforward(X_batch)\n\u001b[1;32m    135\u001b[0m \u001b[38;5;28mself\u001b[39m\u001b[38;5;241m.\u001b[39mbackward(X_batch, Y_batch)\n\u001b[0;32m--> 136\u001b[0m \u001b[38;5;28;43mself\u001b[39;49m\u001b[38;5;241;43m.\u001b[39;49m\u001b[43mupdate_params\u001b[49m\u001b[43m(\u001b[49m\u001b[43m{\u001b[49m\u001b[38;5;124;43m'\u001b[39;49m\u001b[38;5;124;43mlr\u001b[39;49m\u001b[38;5;124;43m'\u001b[39;49m\u001b[43m:\u001b[49m\u001b[43m \u001b[49m\u001b[43mhyper_params\u001b[49m\u001b[43m[\u001b[49m\u001b[38;5;124;43m'\u001b[39;49m\u001b[38;5;124;43mlr\u001b[39;49m\u001b[38;5;124;43m'\u001b[39;49m\u001b[43m]\u001b[49m\u001b[43m,\u001b[49m\u001b[43m \u001b[49m\u001b[38;5;124;43m'\u001b[39;49m\u001b[38;5;124;43malpha\u001b[39;49m\u001b[38;5;124;43m'\u001b[39;49m\u001b[43m:\u001b[49m\u001b[43m \u001b[49m\u001b[43mhyper_params\u001b[49m\u001b[43m[\u001b[49m\u001b[38;5;124;43m'\u001b[39;49m\u001b[38;5;124;43malpha\u001b[39;49m\u001b[38;5;124;43m'\u001b[39;49m\u001b[43m]\u001b[49m\u001b[43m}\u001b[49m\u001b[43m)\u001b[49m\n\u001b[1;32m    137\u001b[0m loss \u001b[38;5;241m+\u001b[39m\u001b[38;5;241m=\u001b[39m loss_func\u001b[38;5;241m.\u001b[39mcal_loss(\u001b[38;5;28mself\u001b[39m\u001b[38;5;241m.\u001b[39mget_pred(X_batch, with_onehot\u001b[38;5;241m=\u001b[39m\u001b[38;5;28;01mTrue\u001b[39;00m), Y_batch)\n\u001b[1;32m    138\u001b[0m pbar\u001b[38;5;241m.\u001b[39mupdate(\u001b[38;5;241m1\u001b[39m)\n",
      "File \u001b[0;32m~/Programs/NumpyImplenmentNN/my_nn_lib_torch/model.py:39\u001b[0m, in \u001b[0;36mMyModel.update_params\u001b[0;34m(self, opt_params)\u001b[0m\n\u001b[1;32m     37\u001b[0m \u001b[38;5;28;01mdef\u001b[39;00m \u001b[38;5;21mupdate_params\u001b[39m(\u001b[38;5;28mself\u001b[39m, opt_params):\n\u001b[1;32m     38\u001b[0m     \u001b[38;5;28;01mfor\u001b[39;00m layer \u001b[38;5;129;01min\u001b[39;00m \u001b[38;5;28mself\u001b[39m\u001b[38;5;241m.\u001b[39mlayers:\n\u001b[0;32m---> 39\u001b[0m         \u001b[43mlayer\u001b[49m\u001b[38;5;241;43m.\u001b[39;49m\u001b[43mupdate_params\u001b[49m\u001b[43m(\u001b[49m\u001b[43mopt_params\u001b[49m\u001b[43m)\u001b[49m\n",
      "File \u001b[0;32m~/Programs/NumpyImplenmentNN/my_nn_lib_torch/layers/conv.py:43\u001b[0m, in \u001b[0;36mConv2d.update_params\u001b[0;34m(self, opt_params)\u001b[0m\n\u001b[1;32m     41\u001b[0m \u001b[38;5;28mself\u001b[39m\u001b[38;5;241m.\u001b[39mw \u001b[38;5;241m+\u001b[39m\u001b[38;5;241m=\u001b[39m \u001b[38;5;28mself\u001b[39m\u001b[38;5;241m.\u001b[39mvelocity[\u001b[38;5;124m'\u001b[39m\u001b[38;5;124mw\u001b[39m\u001b[38;5;124m'\u001b[39m]\n\u001b[1;32m     42\u001b[0m \u001b[38;5;28mprint\u001b[39m(\u001b[38;5;28mself\u001b[39m\u001b[38;5;241m.\u001b[39mb\u001b[38;5;241m.\u001b[39mshape, \u001b[38;5;28mself\u001b[39m\u001b[38;5;241m.\u001b[39mvelocity[\u001b[38;5;124m'\u001b[39m\u001b[38;5;124mb\u001b[39m\u001b[38;5;124m'\u001b[39m]\u001b[38;5;241m.\u001b[39mshape)\n\u001b[0;32m---> 43\u001b[0m \u001b[38;5;28mself\u001b[39m\u001b[38;5;241m.\u001b[39mb \u001b[38;5;241m+\u001b[39m\u001b[38;5;241m=\u001b[39m \u001b[38;5;28mself\u001b[39m\u001b[38;5;241m.\u001b[39mvelocity[\u001b[38;5;124m'\u001b[39m\u001b[38;5;124mb\u001b[39m\u001b[38;5;124m'\u001b[39m]\n",
      "\u001b[0;31mRuntimeError\u001b[0m: output with shape [1, 9] doesn't match the broadcast shape [1, 9, 1, 9]"
     ]
    }
   ],
   "source": [
    "import torch\n",
    "from torchvision import datasets, transforms\n",
    "from my_nn_lib_torch import Conv2d, LeckyReLU, Linear, Softmax, Flatten, MyModel, CrossEntropyLoss\n",
    "\n",
    "\n",
    "# 載入訓練和測試資料集\n",
    "transform = transforms.Compose([\n",
    "            transforms.ToTensor(),\n",
    "            transforms.Normalize((0.5, 0.5, 0.5), (0.5, 0.5, 0.5))\n",
    "        ])\n",
    "train_dataset = datasets.CIFAR10(root='./data', train=True, download=True, transform=transform)\n",
    "\n",
    "\n",
    "\n",
    "model = MyModel([Conv2d(3, 9, (7, 7), 1, 0), \n",
    "                LeckyReLU(),\n",
    "                Conv2d(9, 3, (5, 5), 1, 0),\n",
    "                LeckyReLU(),\n",
    "                Flatten(),\n",
    "                Linear(3*22*22, 10),\n",
    "                Softmax()])\n",
    "\n",
    "hyper_params = {    \n",
    "    'lr': 0.005,\n",
    "    'epoch': 10,\n",
    "    'batch_size': 64,\n",
    "    'alpha': 0.9\n",
    "}\n",
    "model.train_with_dataset(train_dataset, CrossEntropyLoss, hyper_params, show_plot=True)\n",
    "\n"
   ]
  },
  {
   "cell_type": "code",
   "execution_count": 25,
   "metadata": {},
   "outputs": [
    {
     "data": {
      "text/plain": [
       "tensor([[-0.7417, -0.9318,  0.3599,  0.7474, -0.5783,  1.8770],\n",
       "        [ 1.4013,  0.1750, -0.1525, -0.4372,  0.8088,  0.0652],\n",
       "        [-0.6041, -0.2375,  0.0911,  0.1880,  0.2377, -0.0834],\n",
       "        [ 0.3751, -0.2055, -0.4353,  1.0228,  0.0154, -0.4575],\n",
       "        [-0.0798,  0.8257, -0.1885, -0.4419, -0.4577,  0.0160]])"
      ]
     },
     "execution_count": 25,
     "metadata": {},
     "output_type": "execute_result"
    }
   ],
   "source": [
    "import torch\n",
    "import numpy as np\n",
    "\n",
    "a = np.random.randint(0, 20, size=(2, 7, 3, 3)).astype(np.float32)\n",
    "a_torch = torch.tensor(a)\n",
    "# a.transpose(0, 2, 3, 1).shape\n",
    "torch.randn(5, 6) * np.sqrt(2 / 5)"
   ]
  }
 ],
 "metadata": {
  "kernelspec": {
   "display_name": "sparsedrive",
   "language": "python",
   "name": "python3"
  },
  "language_info": {
   "codemirror_mode": {
    "name": "ipython",
    "version": 3
   },
   "file_extension": ".py",
   "mimetype": "text/x-python",
   "name": "python",
   "nbconvert_exporter": "python",
   "pygments_lexer": "ipython3",
   "version": "3.8.19"
  }
 },
 "nbformat": 4,
 "nbformat_minor": 2
}
