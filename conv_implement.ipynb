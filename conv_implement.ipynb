{
 "cells": [
  {
   "cell_type": "markdown",
   "metadata": {},
   "source": [
    "### 筆記\n"
   ]
  },
  {
   "cell_type": "code",
   "execution_count": 2,
   "metadata": {},
   "outputs": [],
   "source": [
    "import numpy as np\n",
    "\n",
    "def im2col(input_feat: np.ndarray, N, kh, kw, out_h, out_w, stride):\n",
    "    im2col_feat = []\n",
    "    for n in range(N):\n",
    "        for ih in range(out_h):\n",
    "            for iw in range(out_w):\n",
    "                im2col_feat.append(input_feat[n, :, stride * ih:stride * ih + kh, stride * iw:stride * iw + kw])\n",
    "                # each element -> (C, kh, kw)\n",
    "    # input_feat -> (N*out_h*out_w, C, kh, kw)\n",
    "\n",
    "    return np.array(im2col_feat).reshape(N * out_h * out_w, -1)\n",
    "\n",
    "def convolution(input_feat: np.ndarray, filter: np.ndarray, kh, kw, stride=1, padding=0, bias=None):\n",
    "    '''\n",
    "    input_feat: (N, C, H, W)\n",
    "    filter: (out_C, in_C, kH, kw)\n",
    "    bias: (out_C, 1)\n",
    "    '''\n",
    "    N, C, H, W = input_feat.shape\n",
    "    out_h = int((H - kh + 2 * padding) // stride) + 1\n",
    "    out_w = int((W - kw + 2 * padding) // stride) + 1\n",
    "    out_c = filter.shape[0]\n",
    "    \n",
    "    if padding:\n",
    "        input_feat = np.pad(input_feat, ((0, 0), (0, 0), (padding, padding), (padding, padding)), 'constant', constant_values=0)\n",
    "\n",
    "    im2col_feat = im2col(input_feat, N, kh, kw, out_h, out_w, stride)\n",
    "    # im2col -> (N*out_h*out_w, C*kh*kw)\n",
    "\n",
    "    filter = filter.reshape(out_c, -1)\n",
    "    # filter -> (out_c, C*kh*kw)\n",
    "\n",
    "    # w @ x.T\n",
    "    # w -> (out_c, C*kh*kw)\n",
    "    # x.T -> (C*kh*kw, N*out_h*out_w)\n",
    "    if isinstance(bias, np.ndarray):\n",
    "        out_feat = filter @ im2col_feat.T + bias\n",
    "    else:\n",
    "        out_feat = filter @ im2col_feat.T\n",
    "    # out_feat -> (out_c, N*out_h*out_w)\n",
    "    \n",
    "    # 直接將 (out_c, N*out_h*out_w) reshape 成 (N, out_c, out_h, out_w) 會產生順序錯亂\n",
    "    # 所以先將 (out_c, N*out_h*out_w) 拆成 (out_c, N, out_h, out_w) 後再 permute\n",
    "    # out_feat -> (N, out_c, out_h, out_w)\n",
    "    return out_feat.reshape(out_c, N, out_h, out_w).transpose(1, 0, 2, 3)\n",
    "    # return out_feat.T.reshape(N, out_h, out_w, out_c).transpose(0, 3, 1, 2)\n",
    "   \n",
    "    \n",
    "            "
   ]
  },
  {
   "cell_type": "code",
   "execution_count": null,
   "metadata": {},
   "outputs": [],
   "source": [
    "import torch\n",
    "import torch.nn.functional as F\n",
    "\n",
    "# input feat (c, h, w) -> (3, 3, 3)\n",
    "# filter (out_c, in_c, kh, kw) -> (3, 3, 2, 2)\n",
    "# bias (out_c, 1)\n",
    "bs = 2\n",
    "feat_h = 3\n",
    "feat_w = 3\n",
    "kh = 2\n",
    "kw = 2\n",
    "in_c = 3\n",
    "out_c = 3\n",
    "padding = 0\n",
    "stride = 1\n",
    "\n",
    "input_feat = np.random.randint(0, 20, size=(bs, in_c, feat_h, feat_w)).astype(np.float32)\n",
    "filter = np.random.randint(0, 5, size=(out_c, in_c, kh, kw)).astype(np.float32)\n",
    "# bias = np.random.randint(0, 5, size=(2, 1))\n",
    "bias = np.zeros((out_c, 1), dtype=np.float32)\n",
    "\n",
    "out = convolution(input_feat, filter, kh=kh, kw=kw, stride=stride, padding=padding, bias=bias)\n",
    "\n",
    "# 與 pytorch 的實現方法對照結果\n",
    "out_t = F.conv2d(torch.tensor(input_feat), torch.tensor(filter), stride=stride, padding=padding, bias=torch.tensor(bias).squeeze(1))\n",
    "\n",
    "\n",
    "print(f'input feat:\\n{input_feat}')\n",
    "print('======================')\n",
    "print(f'filter\\n:{filter}')\n",
    "print('======================')\n",
    "print(f'my out:\\n{out}')\n",
    "print(f'torch out:\\n{out_t.numpy()}')\n",
    "np.allclose(out, out_t)\n",
    "\n"
   ]
  },
  {
   "cell_type": "code",
   "execution_count": 180,
   "metadata": {},
   "outputs": [],
   "source": [
    "import os\n",
    "import cv2\n",
    "import numpy as np\n",
    "from tqdm import tqdm\n",
    "from my_mlp import MLP, CrossEntropyLoss\n",
    "from my_nn_lib import ReLU, Softmax, LeckyReLU, Linear, BaseModule, Conv2d, Flatten\n",
    "from torchvision import datasets, transforms\n",
    "# import mnist\n",
    "\n",
    "\n",
    "\n",
    "class MyModel(MLP):\n",
    "    def __init__(self, layer_list):\n",
    "        self.layers = layer_list\n",
    "\n",
    "    def forward(self, X):\n",
    "        for layer in self.layers:\n",
    "            X = layer.forward(X)\n",
    "\n",
    "        return X\n",
    "    \n",
    "    def backward(self, X, label):\n",
    "\n",
    "        idx_maxlayer = len(self.layers)-1\n",
    "        dLdZ = label\n",
    "\n",
    "        for idx in range(idx_maxlayer, -1, -1):\n",
    "            # 倒敘遍歷\n",
    "\n",
    "            dLdZ = self.layers[idx].backward(delta=dLdZ)\n",
    "            \n",
    "    \n",
    "    def update_params(self, opt_params):\n",
    "        for layer in self.layers:\n",
    "            layer.update_params(opt_params)\n",
    "        \n",
    "    def get_pred(self, X, with_onehot=False):\n",
    "        pred = self.forward(X)\n",
    "        if with_onehot:\n",
    "            return pred\n",
    "        return np.argmax(pred, axis=1)\n",
    "\n",
    "    def train(self, X_train, Y_train, X_val, Y_val, loss_func, hyper_params: dict, show_plot=False):\n",
    "        # X_train -> (n_samples, n_features)\n",
    "        # Y_train -> (n_samples, n_classes) one-hot \n",
    "        \n",
    "        # params = self.weight_init(self.params_set_list)\n",
    "\n",
    "        n_samples = X_train.shape[0]\n",
    "\n",
    "        # 將 train data 打包成 batch\n",
    "        X_batch_all, Y_batch_all = self.pack_to_batch(X_train, Y_train, hyper_params['batch_size'], n_samples)\n",
    "        \n",
    "        train_loss_arr = []\n",
    "        val_loss_arr = []\n",
    "        \n",
    "        val_acc_arr = []\n",
    "\n",
    "        for i in range(hyper_params['epoch']):\n",
    "            loss = 0\n",
    "            print(\"Epoch: \", i)\n",
    "            with tqdm(total=len(X_batch_all)) as pbar:\n",
    "                for idx, (X_batch, Y_batch) in enumerate(zip(X_batch_all, Y_batch_all)):\n",
    "                    # 單個 batch 訓練過程\n",
    "                    # 1. 前向傳播\n",
    "                    # 2. 反向傳播\n",
    "                    # 3. 更新權重   \n",
    "                    self.forward(X_batch)\n",
    "                    self.backward(X_batch, Y_batch)\n",
    "                    self.update_params({'lr': hyper_params['lr'], 'alpha': hyper_params['alpha']})\n",
    "                    loss += loss_func.cal_loss(self.get_pred(X_batch, with_onehot=True), Y_batch)\n",
    "                    pbar.update(1)\n",
    "            print(\"Epoch: \", i)\n",
    "            print('Loss:', round(loss, 2) / hyper_params['batch_size'])\n",
    "\n",
    "            predictions = self.get_pred(X_val)\n",
    "            print('Val Acc:', round(self.calculate_acc(predictions, Y_val), 2))\n",
    "            \n",
    "            train_loss_arr.append(loss / n_samples)\n",
    "\n",
    "            # 取 output layer 經過 activation function 的結果為 prediction\n",
    "            val_loss_arr.append(loss_func.cal_loss(self.get_pred(X_val, with_onehot=True), Y_val) / len(X_val))\n",
    "            val_acc_arr.append(self.calculate_acc(predictions, Y_val))\n",
    "\n",
    "        if show_plot:\n",
    "            self.plot_loss_acc(train_loss_arr, val_loss_arr, val_acc_arr)\n",
    "\n",
    "        return train_loss_arr, val_loss_arr, val_acc_arr\n",
    "    \n",
    "    def train_with_dataset(self, train_dataset, loss_func, hyper_params: dict, show_plot=False):\n",
    "   \n",
    "        \n",
    "        train_loss_arr = []\n",
    "        val_loss_arr = []\n",
    "        \n",
    "        val_acc_arr = []\n",
    "        # 定義轉換\n",
    "        \n",
    "\n",
    "        # 載入訓練和測試資料集\n",
    "        \n",
    "\n",
    "\n",
    "        # split train and val\n",
    "        split_ratio = 0.8\n",
    "        split_idx = int(len(train_dataset) * split_ratio)\n",
    "        train_dataset, val_dataset = torch.utils.data.random_split(train_dataset, [split_idx, len(train_dataset) - split_idx])\n",
    "\n",
    "        # 建立資料加載器\n",
    "        train_loader = torch.utils.data.DataLoader(dataset=train_dataset, batch_size=hyper_params['batch_size'], shuffle=True)\n",
    "        val_loader = torch.utils.data.DataLoader(dataset=val_dataset, batch_size=hyper_params['batch_size'], shuffle=False)\n",
    "\n",
    "        train_samples = train_loader.dataset.dataset.data.shape[0]\n",
    "        val_samples = val_loader.dataset.dataset.data.shape[0]\n",
    "\n",
    "        for i in range(hyper_params['epoch']):\n",
    "            loss = 0\n",
    "            val_loss = 0\n",
    "            val_acc = 0\n",
    "            print(\"Epoch: \", i)\n",
    "            with tqdm(total=len(train_loader), desc='train:') as pbar:\n",
    "                for idx, (X_batch, Y_batch) in enumerate(train_loader):\n",
    "                    # 單個 batch 訓練過程\n",
    "                    # 1. 前向傳播\n",
    "                    # 2. 反向傳播\n",
    "                    # 3. 更新權重   \n",
    "                    X_batch, Y_batch = X_batch.numpy(), Y_batch.numpy()\n",
    "                    Y_batch = np.eye(10)[Y_batch]\n",
    "                    self.forward(X_batch)\n",
    "                    self.backward(X_batch, Y_batch)\n",
    "                    self.update_params({'lr': hyper_params['lr'], 'alpha': hyper_params['alpha']})\n",
    "                    loss += loss_func.cal_loss(self.get_pred(X_batch, with_onehot=True), Y_batch)\n",
    "                    pbar.update(1)\n",
    "            print(\"Epoch: \", i)\n",
    "            print('Loss:', round(loss, 2) / hyper_params['batch_size'])\n",
    "\n",
    "            with tqdm(total=len(val_loader), desc='val:') as pbar:\n",
    "                for idx, (X_batch, Y_batch) in enumerate(val_loader):\n",
    "                    X_batch, Y_batch = X_batch.numpy(), Y_batch.numpy()\n",
    "                    Y_batch = np.eye(10)[Y_batch]\n",
    "                    predictions = self.get_pred(X_batch, with_onehot=True)\n",
    "                    val_loss += loss_func.cal_loss(predictions, Y_batch)\n",
    "                    val_acc += round(self.calculate_acc(predictions, Y_batch), 2)\n",
    "                    pbar.update(1)\n",
    "\n",
    "            train_loss_arr.append(loss / train_samples)\n",
    "            val_loss_arr.append(val_loss / val_samples)\n",
    "\n",
    "            val_acc_arr.append(val_acc / len(val_loader))\n",
    "            print('Val Acc:', val_acc / len(val_loader))\n",
    "\n",
    "        if show_plot:\n",
    "            self.plot_loss_acc(train_loss_arr, val_loss_arr, val_acc_arr)\n",
    "\n",
    "        return train_loss_arr, val_loss_arr, val_acc_arr"
   ]
  },
  {
   "cell_type": "code",
   "execution_count": 4,
   "metadata": {},
   "outputs": [
    {
     "name": "stdout",
     "output_type": "stream",
     "text": [
      "(2, 4, 8, 8)\n",
      "(2, 3, 6, 6)\n"
     ]
    },
    {
     "ename": "ValueError",
     "evalue": "matmul: Input operand 1 has a mismatch in its core dimension 0, with gufunc signature (n?,k),(k,m?)->(n?,m?) (size 36 is different from 108)",
     "output_type": "error",
     "traceback": [
      "\u001b[0;31m---------------------------------------------------------------------------\u001b[0m",
      "\u001b[0;31mValueError\u001b[0m                                Traceback (most recent call last)",
      "Cell \u001b[0;32mIn[4], line 20\u001b[0m\n\u001b[1;32m      7\u001b[0m model \u001b[38;5;241m=\u001b[39m MyModel([Conv2d(\u001b[38;5;241m3\u001b[39m, \u001b[38;5;241m4\u001b[39m, (\u001b[38;5;241m3\u001b[39m, \u001b[38;5;241m3\u001b[39m), \u001b[38;5;241m1\u001b[39m, \u001b[38;5;241m0\u001b[39m), \n\u001b[1;32m      8\u001b[0m                 LeckyReLU(),\n\u001b[1;32m      9\u001b[0m                 Conv2d(\u001b[38;5;241m4\u001b[39m, \u001b[38;5;241m3\u001b[39m, (\u001b[38;5;241m3\u001b[39m, \u001b[38;5;241m3\u001b[39m), \u001b[38;5;241m1\u001b[39m, \u001b[38;5;241m0\u001b[39m),\n\u001b[1;32m     10\u001b[0m                 Flatten(),\n\u001b[1;32m     11\u001b[0m                 Linear(\u001b[38;5;241m3\u001b[39m\u001b[38;5;241m*\u001b[39m\u001b[38;5;241m6\u001b[39m\u001b[38;5;241m*\u001b[39m\u001b[38;5;241m6\u001b[39m, \u001b[38;5;241m3\u001b[39m),\n\u001b[1;32m     12\u001b[0m                 Softmax()])\n\u001b[1;32m     14\u001b[0m hyper_params \u001b[38;5;241m=\u001b[39m {    \n\u001b[1;32m     15\u001b[0m     \u001b[38;5;124m'\u001b[39m\u001b[38;5;124mlr\u001b[39m\u001b[38;5;124m'\u001b[39m: \u001b[38;5;241m0.01\u001b[39m,\n\u001b[1;32m     16\u001b[0m     \u001b[38;5;124m'\u001b[39m\u001b[38;5;124mepoch\u001b[39m\u001b[38;5;124m'\u001b[39m: \u001b[38;5;241m50\u001b[39m,\n\u001b[1;32m     17\u001b[0m     \u001b[38;5;124m'\u001b[39m\u001b[38;5;124mbatch_size\u001b[39m\u001b[38;5;124m'\u001b[39m: \u001b[38;5;241m2\u001b[39m,\n\u001b[1;32m     18\u001b[0m     \u001b[38;5;124m'\u001b[39m\u001b[38;5;124malpha\u001b[39m\u001b[38;5;124m'\u001b[39m: \u001b[38;5;241m0.9\u001b[39m\n\u001b[1;32m     19\u001b[0m }\n\u001b[0;32m---> 20\u001b[0m \u001b[43mmodel\u001b[49m\u001b[38;5;241;43m.\u001b[39;49m\u001b[43mtrain\u001b[49m\u001b[43m(\u001b[49m\u001b[43mimages\u001b[49m\u001b[43m,\u001b[49m\u001b[43m \u001b[49m\u001b[43mlabels\u001b[49m\u001b[43m,\u001b[49m\u001b[43m \u001b[49m\u001b[43mimages\u001b[49m\u001b[43m,\u001b[49m\u001b[43m \u001b[49m\u001b[43mlabels\u001b[49m\u001b[43m,\u001b[49m\u001b[43m \u001b[49m\u001b[43mCrossEntropyLoss\u001b[49m\u001b[43m,\u001b[49m\u001b[43m \u001b[49m\u001b[43mhyper_params\u001b[49m\u001b[43m,\u001b[49m\u001b[43m \u001b[49m\u001b[43mshow_plot\u001b[49m\u001b[38;5;241;43m=\u001b[39;49m\u001b[38;5;28;43;01mTrue\u001b[39;49;00m\u001b[43m)\u001b[49m\n",
      "Cell \u001b[0;32mIn[1], line 60\u001b[0m, in \u001b[0;36mMyModel.train\u001b[0;34m(self, X_train, Y_train, X_val, Y_val, loss_func, hyper_params, show_plot)\u001b[0m\n\u001b[1;32m     54\u001b[0m \u001b[38;5;28;01mfor\u001b[39;00m X_batch, Y_batch \u001b[38;5;129;01min\u001b[39;00m \u001b[38;5;28mzip\u001b[39m(X_batch_all, Y_batch_all):\n\u001b[1;32m     55\u001b[0m     \u001b[38;5;66;03m# 單個 batch 訓練過程\u001b[39;00m\n\u001b[1;32m     56\u001b[0m     \u001b[38;5;66;03m# 1. 前向傳播\u001b[39;00m\n\u001b[1;32m     57\u001b[0m     \u001b[38;5;66;03m# 2. 反向傳播\u001b[39;00m\n\u001b[1;32m     58\u001b[0m     \u001b[38;5;66;03m# 3. 更新權重   \u001b[39;00m\n\u001b[1;32m     59\u001b[0m     \u001b[38;5;28mself\u001b[39m\u001b[38;5;241m.\u001b[39mforward(X_batch)\n\u001b[0;32m---> 60\u001b[0m     \u001b[38;5;28;43mself\u001b[39;49m\u001b[38;5;241;43m.\u001b[39;49m\u001b[43mbackward\u001b[49m\u001b[43m(\u001b[49m\u001b[43mX_batch\u001b[49m\u001b[43m,\u001b[49m\u001b[43m \u001b[49m\u001b[43mY_batch\u001b[49m\u001b[43m)\u001b[49m\n\u001b[1;32m     61\u001b[0m     \u001b[38;5;28mself\u001b[39m\u001b[38;5;241m.\u001b[39mupdate_params({\u001b[38;5;124m'\u001b[39m\u001b[38;5;124mlr\u001b[39m\u001b[38;5;124m'\u001b[39m: hyper_params[\u001b[38;5;124m'\u001b[39m\u001b[38;5;124mlr\u001b[39m\u001b[38;5;124m'\u001b[39m], \u001b[38;5;124m'\u001b[39m\u001b[38;5;124malpha\u001b[39m\u001b[38;5;124m'\u001b[39m: hyper_params[\u001b[38;5;124m'\u001b[39m\u001b[38;5;124malpha\u001b[39m\u001b[38;5;124m'\u001b[39m]})\n\u001b[1;32m     62\u001b[0m     loss \u001b[38;5;241m+\u001b[39m\u001b[38;5;241m=\u001b[39m loss_func\u001b[38;5;241m.\u001b[39mcal_loss(\u001b[38;5;28mself\u001b[39m\u001b[38;5;241m.\u001b[39mget_pred(X_batch, with_onehot\u001b[38;5;241m=\u001b[39m\u001b[38;5;28;01mTrue\u001b[39;00m), Y_batch)\n",
      "Cell \u001b[0;32mIn[1], line 23\u001b[0m, in \u001b[0;36mMyModel.backward\u001b[0;34m(self, X, label)\u001b[0m\n\u001b[1;32m     18\u001b[0m dLdZ \u001b[38;5;241m=\u001b[39m label\n\u001b[1;32m     20\u001b[0m \u001b[38;5;28;01mfor\u001b[39;00m idx \u001b[38;5;129;01min\u001b[39;00m \u001b[38;5;28mrange\u001b[39m(idx_maxlayer, \u001b[38;5;241m-\u001b[39m\u001b[38;5;241m1\u001b[39m, \u001b[38;5;241m-\u001b[39m\u001b[38;5;241m1\u001b[39m):\n\u001b[1;32m     21\u001b[0m     \u001b[38;5;66;03m# 倒敘遍歷\u001b[39;00m\n\u001b[0;32m---> 23\u001b[0m     dLdZ \u001b[38;5;241m=\u001b[39m \u001b[38;5;28;43mself\u001b[39;49m\u001b[38;5;241;43m.\u001b[39;49m\u001b[43mlayers\u001b[49m\u001b[43m[\u001b[49m\u001b[43midx\u001b[49m\u001b[43m]\u001b[49m\u001b[38;5;241;43m.\u001b[39;49m\u001b[43mbackward\u001b[49m\u001b[43m(\u001b[49m\u001b[43mdelta\u001b[49m\u001b[38;5;241;43m=\u001b[39;49m\u001b[43mdLdZ\u001b[49m\u001b[43m)\u001b[49m\n",
      "File \u001b[0;32m~/Programs/NumpyImplenmentNN/my_nn_lib/layers/conv.py:52\u001b[0m, in \u001b[0;36mConv2d.backward\u001b[0;34m(self, delta)\u001b[0m\n\u001b[1;32m     45\u001b[0m \u001b[38;5;28;01mdef\u001b[39;00m \u001b[38;5;21mbackward\u001b[39m(\u001b[38;5;28mself\u001b[39m, delta):\n\u001b[1;32m     46\u001b[0m     \u001b[38;5;66;03m#  back_prop_params: {'delta_next': delta_next, \u001b[39;00m\n\u001b[1;32m     47\u001b[0m     \u001b[38;5;66;03m#                     'w_next': w_next, \u001b[39;00m\n\u001b[0;32m   (...)\u001b[0m\n\u001b[1;32m     50\u001b[0m     \u001b[38;5;66;03m#  如果 next layer 是 flatten\u001b[39;00m\n\u001b[1;32m     51\u001b[0m     \u001b[38;5;66;03m#  dLdZ -> (N, out_c*out_h*out_w)\u001b[39;00m\n\u001b[0;32m---> 52\u001b[0m     dLdZ \u001b[38;5;241m=\u001b[39m \u001b[38;5;28;43mself\u001b[39;49m\u001b[38;5;241;43m.\u001b[39;49m\u001b[43mcal_dLdZ\u001b[49m\u001b[43m(\u001b[49m\u001b[43mdelta\u001b[49m\u001b[43m,\u001b[49m\u001b[43m \u001b[49m\u001b[38;5;28;43mself\u001b[39;49m\u001b[38;5;241;43m.\u001b[39;49m\u001b[43mw\u001b[49m\u001b[43m)\u001b[49m\n\u001b[1;32m     53\u001b[0m     dW, db \u001b[38;5;241m=\u001b[39m \u001b[38;5;28mself\u001b[39m\u001b[38;5;241m.\u001b[39mcal_dLdW(\u001b[38;5;28mself\u001b[39m\u001b[38;5;241m.\u001b[39min_feat, delta)\n\u001b[1;32m     54\u001b[0m     \u001b[38;5;28mself\u001b[39m\u001b[38;5;241m.\u001b[39mparams_delta[\u001b[38;5;124m'\u001b[39m\u001b[38;5;124mdW\u001b[39m\u001b[38;5;124m'\u001b[39m] \u001b[38;5;241m=\u001b[39m dW\n",
      "File \u001b[0;32m~/Programs/NumpyImplenmentNN/my_nn_lib/layers/conv.py:79\u001b[0m, in \u001b[0;36mConv2d.cal_dLdZ\u001b[0;34m(self, delta, filter)\u001b[0m\n\u001b[1;32m     75\u001b[0m \u001b[38;5;66;03m# 每個 out_c 是將 in_c 個 filters conv 後的結果相加\u001b[39;00m\n\u001b[1;32m     76\u001b[0m \u001b[38;5;66;03m# 所以 backward 時梯度要複製成 in_c 個\u001b[39;00m\n\u001b[1;32m     77\u001b[0m dilated_delta \u001b[38;5;241m=\u001b[39m np\u001b[38;5;241m.\u001b[39mtile(dilated_delta, (\u001b[38;5;241m1\u001b[39m, \u001b[38;5;28mself\u001b[39m\u001b[38;5;241m.\u001b[39min_channels, \u001b[38;5;241m1\u001b[39m, \u001b[38;5;241m1\u001b[39m))\n\u001b[0;32m---> 79\u001b[0m dLdZ \u001b[38;5;241m=\u001b[39m \u001b[38;5;28;43mself\u001b[39;49m\u001b[38;5;241;43m.\u001b[39;49m\u001b[43mconvolution\u001b[49m\u001b[43m(\u001b[49m\u001b[43mdilated_delta\u001b[49m\u001b[43m,\u001b[49m\u001b[43m \u001b[49m\u001b[38;5;28;43mfilter\u001b[39;49m\u001b[43m,\u001b[49m\u001b[43m \u001b[49m\u001b[43mstride\u001b[49m\u001b[38;5;241;43m=\u001b[39;49m\u001b[38;5;241;43m1\u001b[39;49m\u001b[43m)\u001b[49m\n\u001b[1;32m     81\u001b[0m \u001b[38;5;28;01mreturn\u001b[39;00m dLdZ\n",
      "File \u001b[0;32m~/Programs/NumpyImplenmentNN/my_nn_lib/layers/conv.py:168\u001b[0m, in \u001b[0;36mConv2d.convolution\u001b[0;34m(self, input_feat, filter, bias, stride, is_dLdW)\u001b[0m\n\u001b[1;32m    166\u001b[0m     out_feat \u001b[38;5;241m=\u001b[39m (im2col_feat \u001b[38;5;241m@\u001b[39m \u001b[38;5;28mfilter\u001b[39m \u001b[38;5;241m+\u001b[39m bias)\u001b[38;5;241m.\u001b[39mT\n\u001b[1;32m    167\u001b[0m \u001b[38;5;28;01melse\u001b[39;00m:\n\u001b[0;32m--> 168\u001b[0m     out_feat \u001b[38;5;241m=\u001b[39m (\u001b[43mim2col_feat\u001b[49m\u001b[43m \u001b[49m\u001b[38;5;241;43m@\u001b[39;49m\u001b[43m \u001b[49m\u001b[38;5;28;43mfilter\u001b[39;49m)\u001b[38;5;241m.\u001b[39mT\n\u001b[1;32m    169\u001b[0m \u001b[38;5;66;03m# out_feat -> (out_c, N*out_h*out_w)\u001b[39;00m\n\u001b[1;32m    170\u001b[0m \n\u001b[1;32m    171\u001b[0m \u001b[38;5;66;03m# 將 w 重新 reshape 成 (out_c, in_c, kh, kw)\u001b[39;00m\n\u001b[1;32m    172\u001b[0m \u001b[38;5;66;03m# self.w = self.w.reshape(out_c, C, kh, kw)\u001b[39;00m\n\u001b[1;32m    174\u001b[0m \u001b[38;5;28;01mif\u001b[39;00m is_dLdW:\n",
      "\u001b[0;31mValueError\u001b[0m: matmul: Input operand 1 has a mismatch in its core dimension 0, with gufunc signature (n?,k),(k,m?)->(n?,m?) (size 36 is different from 108)"
     ]
    }
   ],
   "source": [
    "import numpy as np\n",
    "\n",
    "# making some dummy data about 3 images with 3 channels and labels\n",
    "images = np.random.randint(0, 255, size=(4, 3, 10, 10)).astype(np.float32) / 255\n",
    "labels = np.array([[0, 1, 0], [0, 0, 1], [1, 0, 0], [0, 1, 0]])\n",
    "\n",
    "model = MyModel([Conv2d(3, 4, (3, 3), 1, 0), \n",
    "                LeckyReLU(),\n",
    "                Conv2d(4, 3, (3, 3), 1, 0),\n",
    "                Flatten(),\n",
    "                Linear(3*6*6, 3),\n",
    "                Softmax()])\n",
    "\n",
    "hyper_params = {    \n",
    "    'lr': 0.01,\n",
    "    'epoch': 50,\n",
    "    'batch_size': 2,\n",
    "    'alpha': 0.9\n",
    "}\n",
    "model.train(images, labels, images, labels, CrossEntropyLoss, hyper_params, show_plot=True)"
   ]
  },
  {
   "cell_type": "code",
   "execution_count": null,
   "metadata": {},
   "outputs": [],
   "source": [
    "import numpy as np\n",
    "\n",
    "# 固定隨機種子，確保同參數下每次結果都相同\n",
    "np.random.seed(1)\n",
    "\n",
    "def wine():\n",
    "    with open('data/winequality-red.csv') as f:\n",
    "        # 跳過 first row (標籤名稱)\n",
    "        data = f.readlines()[1:]\n",
    "\n",
    "    data = [line.strip().split(',') for line in data]\n",
    "\n",
    "    data = np.array(data)\n",
    "    labels = []\n",
    "\n",
    "    # 最後一個 column 為 label\n",
    "    classes = np.unique(data[:, -1])\n",
    "\n",
    "    # 將 label 做 one-hot encoding\n",
    "    for d in data:\n",
    "        for cls in classes:\n",
    "            if d[-1] == cls:\n",
    "                one_hot = np.zeros(len(classes))\n",
    "                one_hot[classes.tolist().index(cls)] = 1\n",
    "                labels.append(one_hot)\n",
    "    return data, labels\n",
    "\n",
    "def iris():\n",
    "    with open('data/Iris.csv') as f:\n",
    "    # 跳過 first row (標籤名稱)\n",
    "        data = f.readlines()[1:]\n",
    "\n",
    "    data = [line.strip().split(',')[1:] for line in data]\n",
    "    data = np.array(data)\n",
    "    labels = []\n",
    "\n",
    "    classes = np.unique(data[:, 4])\n",
    "\n",
    "    # 將 label 做 one-hot encoding\n",
    "    for d in data:\n",
    "        for cls in classes:\n",
    "            if d[4] == cls:\n",
    "                one_hot = np.zeros(len(classes))\n",
    "                one_hot[classes.tolist().index(cls)] = 1\n",
    "                labels.append(one_hot)\n",
    "    return data, labels\n",
    "\n",
    "# data, labels = iris()\n",
    "data, labels = wine()\n",
    "# 將 input features 與 labels 從原始資料中分離\n",
    "inputs = data[:, :-1].astype(np.float32)\n",
    "labels = np.array(labels)\n",
    "\n",
    "# 對 input features 做標準化\n",
    "inputs = (inputs - np.mean(inputs, axis=0)) / np.std(inputs, axis=0)\n",
    "\n",
    "# 打亂數據\n",
    "idx = np.random.permutation(len(inputs))\n",
    "\n",
    "X_data = inputs[idx]\n",
    "Y_data = labels[idx]\n",
    "\n",
    "# 設定 train set 和 val set 的比例 (80% train, 20% val)\n",
    "train_size = int(len(X_data) * 0.80)\n",
    "\n",
    "\n",
    "X_train, Y_train = X_data[:train_size], Y_data[:train_size]\n",
    "X_val, Y_val = X_data[train_size:], Y_data[train_size:]\n",
    "\n",
    "hyper_params = {\n",
    "    'lr': 0.01,\n",
    "    'epoch': 50,\n",
    "    'batch_size': 16,\n",
    "    'alpha': 0.9\n",
    "}\n",
    "\n",
    "\n",
    "model = MyModel([Linear(11, 6), \n",
    "                 LeckyReLU(),\n",
    "                 Linear(6, 6),\n",
    "                 Softmax()])\n",
    "\n",
    "# model = MyModel([Linear(4, 3), Softmax()])\n",
    "\n",
    "params = model.train(X_train, Y_train, X_val, Y_val, CrossEntropyLoss, hyper_params, show_plot=True)\n",
    "# mlp.kfold(X_data, Y_data, FOLD, SquareLoss, hyper_params)\n"
   ]
  },
  {
   "cell_type": "code",
   "execution_count": 6,
   "metadata": {},
   "outputs": [
    {
     "name": "stdout",
     "output_type": "stream",
     "text": [
      "b:\n",
      " [[[[ 6.  0.  6.]\n",
      "   [ 0.  0.  0.]\n",
      "   [ 1.  0. 19.]]\n",
      "\n",
      "  [[16.  0. 12.]\n",
      "   [ 0.  0.  0.]\n",
      "   [18.  0. 18.]]\n",
      "\n",
      "  [[16.  0. 11.]\n",
      "   [ 0.  0.  0.]\n",
      "   [18.  0. 17.]]]]\n"
     ]
    }
   ],
   "source": [
    "images = np.random.randint(0, 255, size=(4, 3, 5, 5)).astype(np.float32)\n",
    "labels = np.array([[0, 1, 0], [0, 0, 1], [1, 0, 0], [0, 1, 0]])\n",
    "\n",
    "model = MyModel([Conv2d(3, 1, (3, 3), 2, 0), \n",
    "                LeckyReLU(),\n",
    "                Flatten(),\n",
    "                Linear(2*2*1, 3),\n",
    "                Softmax()])\n",
    "\n",
    "hyper_params = {    \n",
    "    'lr': 0.01,\n",
    "    'epoch': 2,\n",
    "    'batch_size': 2,\n",
    "    'alpha': 0.9\n",
    "}\n",
    "model.train(images, labels, images, labels, CrossEntropyLoss, hyper_params, show_plot=True)"
   ]
  },
  {
   "cell_type": "code",
   "execution_count": 20,
   "metadata": {},
   "outputs": [
    {
     "name": "stdout",
     "output_type": "stream",
     "text": [
      "a:\n",
      " [[[[12. 19.  9. 17.  2.  7. 18.]\n",
      "   [ 2.  8.  7. 15. 17.  2. 11.]\n",
      "   [ 9.  3. 13.  5. 12.  4.  5.]\n",
      "   [17. 10.  9.  5. 17.  8. 13.]\n",
      "   [ 6. 19.  3. 13. 10.  6.  4.]\n",
      "   [ 4.  9. 17. 11.  6.  2.  0.]\n",
      "   [ 8. 18. 17. 18.  4. 11.  0.]]]\n",
      "\n",
      "\n",
      " [[[18.  4.  5. 12.  8.  7. 16.]\n",
      "   [15. 11. 11. 19. 18. 13.  8.]\n",
      "   [ 5. 14. 10.  4.  3. 13.  1.]\n",
      "   [ 1. 15. 15. 19. 13.  1.  2.]\n",
      "   [18. 15. 19.  5. 17.  5. 13.]\n",
      "   [16.  2.  1.  5.  6.  0. 19.]\n",
      "   [15.  0. 19.  5. 18. 15. 13.]]]]\n",
      "b:\n",
      " [[[[12. 19.  9. 17.  2.  7. 18.]\n",
      "   [ 2.  8.  7. 15. 17.  2. 11.]\n",
      "   [ 9.  3. 13.  5. 12.  4.  5.]\n",
      "   [17. 10.  9.  5. 17.  8. 13.]\n",
      "   [ 6. 19.  3. 13. 10.  6.  4.]\n",
      "   [ 4.  9. 17. 11.  6.  2.  0.]\n",
      "   [ 8. 18. 17. 18.  4. 11.  0.]]\n",
      "\n",
      "  [[12. 19.  9. 17.  2.  7. 18.]\n",
      "   [ 2.  8.  7. 15. 17.  2. 11.]\n",
      "   [ 9.  3. 13.  5. 12.  4.  5.]\n",
      "   [17. 10.  9.  5. 17.  8. 13.]\n",
      "   [ 6. 19.  3. 13. 10.  6.  4.]\n",
      "   [ 4.  9. 17. 11.  6.  2.  0.]\n",
      "   [ 8. 18. 17. 18.  4. 11.  0.]]\n",
      "\n",
      "  [[12. 19.  9. 17.  2.  7. 18.]\n",
      "   [ 2.  8.  7. 15. 17.  2. 11.]\n",
      "   [ 9.  3. 13.  5. 12.  4.  5.]\n",
      "   [17. 10.  9.  5. 17.  8. 13.]\n",
      "   [ 6. 19.  3. 13. 10.  6.  4.]\n",
      "   [ 4.  9. 17. 11.  6.  2.  0.]\n",
      "   [ 8. 18. 17. 18.  4. 11.  0.]]]\n",
      "\n",
      "\n",
      " [[[18.  4.  5. 12.  8.  7. 16.]\n",
      "   [15. 11. 11. 19. 18. 13.  8.]\n",
      "   [ 5. 14. 10.  4.  3. 13.  1.]\n",
      "   [ 1. 15. 15. 19. 13.  1.  2.]\n",
      "   [18. 15. 19.  5. 17.  5. 13.]\n",
      "   [16.  2.  1.  5.  6.  0. 19.]\n",
      "   [15.  0. 19.  5. 18. 15. 13.]]\n",
      "\n",
      "  [[18.  4.  5. 12.  8.  7. 16.]\n",
      "   [15. 11. 11. 19. 18. 13.  8.]\n",
      "   [ 5. 14. 10.  4.  3. 13.  1.]\n",
      "   [ 1. 15. 15. 19. 13.  1.  2.]\n",
      "   [18. 15. 19.  5. 17.  5. 13.]\n",
      "   [16.  2.  1.  5.  6.  0. 19.]\n",
      "   [15.  0. 19.  5. 18. 15. 13.]]\n",
      "\n",
      "  [[18.  4.  5. 12.  8.  7. 16.]\n",
      "   [15. 11. 11. 19. 18. 13.  8.]\n",
      "   [ 5. 14. 10.  4.  3. 13.  1.]\n",
      "   [ 1. 15. 15. 19. 13.  1.  2.]\n",
      "   [18. 15. 19.  5. 17.  5. 13.]\n",
      "   [16.  2.  1.  5.  6.  0. 19.]\n",
      "   [15.  0. 19.  5. 18. 15. 13.]]]]\n",
      "(2, 1, 7, 7) (2, 3, 7, 7)\n"
     ]
    }
   ],
   "source": [
    "import numpy as np\n",
    "a = np.random.randint(0, 20, size=(2, 1, 7, 7)).astype(np.float32)\n",
    "b = np.tile(a, (1, 3, 1, 1))\n",
    "print('a:\\n', a)\n",
    "print('b:\\n', b)\n",
    "print(a.shape, b.shape)\n"
   ]
  },
  {
   "cell_type": "code",
   "execution_count": 13,
   "metadata": {},
   "outputs": [],
   "source": [
    "import numpy as np\n",
    "\n",
    "class Tensor(np.ndarray):\n",
    "    def __new__(cls, input_array, requires_grad=False):\n",
    "        # 建立 ndarray 的子類\n",
    "        obj = np.asarray(input_array).view(cls)\n",
    "        obj.requires_grad = requires_grad\n",
    "        obj.grad = None  # 儲存梯度\n",
    "        obj._grad_fn = None  # 計算梯度的函數\n",
    "        return obj\n",
    "\n",
    "    def __array_finalize__(self, obj):\n",
    "        # 當新 Tensor 被創建時，繼承屬性\n",
    "        if obj is None: return\n",
    "        self.requires_grad = getattr(obj, 'requires_grad', False)\n",
    "        self.grad = getattr(obj, 'grad', None)\n",
    "        self._grad_fn = getattr(obj, '_grad_fn', None)\n",
    "\n",
    "    def backward(self, grad_output=None):\n",
    "        if not self.requires_grad:\n",
    "            raise RuntimeError(\"This tensor does not require gradients.\")\n",
    "        \n",
    "        if grad_output is None:\n",
    "            grad_output = np.ones_like(self)\n",
    "        \n",
    "        if self.grad is None:\n",
    "            self.grad = grad_output\n",
    "        else:\n",
    "            self.grad += grad_output\n",
    "\n",
    "        if self._grad_fn:\n",
    "            self._grad_fn(grad_output)\n",
    "\n",
    "    def __repr__(self):\n",
    "        return f\"Tensor({super().__repr__()}, requires_grad={self.requires_grad})\"\n"
   ]
  },
  {
   "cell_type": "code",
   "execution_count": 28,
   "metadata": {},
   "outputs": [
    {
     "data": {
      "text/plain": [
       "Tensor(Tensor([[1, 2],\n",
       "        [3, 4]]), requires_grad=False)"
      ]
     },
     "execution_count": 28,
     "metadata": {},
     "output_type": "execute_result"
    }
   ],
   "source": [
    "b = np.array([[1, 2], [3, 4]])\n",
    "a = Tensor(b)\n",
    "a\n"
   ]
  },
  {
   "cell_type": "code",
   "execution_count": 7,
   "metadata": {},
   "outputs": [
    {
     "name": "stdout",
     "output_type": "stream",
     "text": [
      "a:\n",
      " [[[17.  2.]\n",
      "  [ 6. 16.]]\n",
      "\n",
      " [[10. 17.]\n",
      "  [10.  0.]]\n",
      "\n",
      " [[11. 10.]\n",
      "  [16.  0.]]]\n",
      "b:\n",
      " [[[ 5. 18.]\n",
      "  [ 0. 18.]]\n",
      "\n",
      " [[ 4.  5.]\n",
      "  [19. 17.]]\n",
      "\n",
      " [[15. 15.]\n",
      "  [19.  1.]]]\n",
      "ab\n",
      " [[[ 85. 342.]\n",
      "  [ 30. 396.]]\n",
      "\n",
      " [[363. 339.]\n",
      "  [ 40.  50.]]\n",
      "\n",
      " [[355. 175.]\n",
      "  [240. 240.]]]\n"
     ]
    }
   ],
   "source": [
    "import numpy as np\n",
    "a = np.random.randint(0, 20, size=(3, 2, 2)).astype(np.float32)\n",
    "b = np.random.randint(0, 20, size=(3, 2, 2)).astype(np.float32)\n",
    "print('a:\\n', a)\n",
    "print('b:\\n', b)\n",
    "print('ab\\n', a @ b)"
   ]
  },
  {
   "cell_type": "code",
   "execution_count": 44,
   "metadata": {},
   "outputs": [
    {
     "name": "stdout",
     "output_type": "stream",
     "text": [
      "Epoch:  0\n"
     ]
    },
    {
     "name": "stderr",
     "output_type": "stream",
     "text": [
      "100%|██████████| 33/33 [04:29<00:00,  8.17s/it]\n"
     ]
    },
    {
     "name": "stdout",
     "output_type": "stream",
     "text": [
      "Epoch:  0\n",
      "Loss: 65.890595703125\n",
      "Val Acc: 0.53\n",
      "Epoch:  1\n"
     ]
    },
    {
     "name": "stderr",
     "output_type": "stream",
     "text": [
      "100%|██████████| 33/33 [04:27<00:00,  8.11s/it]\n"
     ]
    },
    {
     "name": "stdout",
     "output_type": "stream",
     "text": [
      "Epoch:  1\n",
      "Loss: 27.4149609375\n",
      "Val Acc: 0.81\n",
      "Epoch:  2\n"
     ]
    },
    {
     "name": "stderr",
     "output_type": "stream",
     "text": [
      "100%|██████████| 33/33 [04:26<00:00,  8.09s/it]\n"
     ]
    },
    {
     "name": "stdout",
     "output_type": "stream",
     "text": [
      "Epoch:  2\n",
      "Loss: 17.345595703125\n",
      "Val Acc: 0.84\n",
      "Epoch:  3\n"
     ]
    },
    {
     "name": "stderr",
     "output_type": "stream",
     "text": [
      "100%|██████████| 33/33 [04:26<00:00,  8.09s/it]\n"
     ]
    },
    {
     "name": "stdout",
     "output_type": "stream",
     "text": [
      "Epoch:  3\n",
      "Loss: 15.095107421875\n",
      "Val Acc: 0.85\n",
      "Epoch:  4\n"
     ]
    },
    {
     "name": "stderr",
     "output_type": "stream",
     "text": [
      "100%|██████████| 33/33 [04:26<00:00,  8.08s/it]\n"
     ]
    },
    {
     "name": "stdout",
     "output_type": "stream",
     "text": [
      "Epoch:  4\n",
      "Loss: 14.1811328125\n",
      "Val Acc: 0.86\n",
      "Epoch:  5\n"
     ]
    },
    {
     "name": "stderr",
     "output_type": "stream",
     "text": [
      "100%|██████████| 33/33 [04:27<00:00,  8.09s/it]\n"
     ]
    },
    {
     "name": "stdout",
     "output_type": "stream",
     "text": [
      "Epoch:  5\n",
      "Loss: 13.590830078125\n",
      "Val Acc: 0.86\n",
      "Epoch:  6\n"
     ]
    },
    {
     "name": "stderr",
     "output_type": "stream",
     "text": [
      "100%|██████████| 33/33 [04:26<00:00,  8.08s/it]\n"
     ]
    },
    {
     "name": "stdout",
     "output_type": "stream",
     "text": [
      "Epoch:  6\n",
      "Loss: 13.19923828125\n",
      "Val Acc: 0.87\n",
      "Epoch:  7\n"
     ]
    },
    {
     "name": "stderr",
     "output_type": "stream",
     "text": [
      "100%|██████████| 33/33 [04:26<00:00,  8.09s/it]\n"
     ]
    },
    {
     "name": "stdout",
     "output_type": "stream",
     "text": [
      "Epoch:  7\n",
      "Loss: 12.93\n",
      "Val Acc: 0.87\n",
      "Epoch:  8\n"
     ]
    },
    {
     "name": "stderr",
     "output_type": "stream",
     "text": [
      "100%|██████████| 33/33 [04:51<00:00,  8.83s/it]\n"
     ]
    },
    {
     "name": "stdout",
     "output_type": "stream",
     "text": [
      "Epoch:  8\n",
      "Loss: 12.691396484375\n",
      "Val Acc: 0.88\n",
      "Epoch:  9\n"
     ]
    },
    {
     "name": "stderr",
     "output_type": "stream",
     "text": [
      "100%|██████████| 33/33 [05:05<00:00,  9.25s/it]\n"
     ]
    },
    {
     "name": "stdout",
     "output_type": "stream",
     "text": [
      "Epoch:  9\n",
      "Loss: 12.428408203125\n",
      "Val Acc: 0.88\n",
      "Epoch:  10\n"
     ]
    },
    {
     "name": "stderr",
     "output_type": "stream",
     "text": [
      "100%|██████████| 33/33 [04:25<00:00,  8.06s/it]\n"
     ]
    },
    {
     "name": "stdout",
     "output_type": "stream",
     "text": [
      "Epoch:  10\n",
      "Loss: 12.17658203125\n",
      "Val Acc: 0.88\n",
      "Epoch:  11\n"
     ]
    },
    {
     "name": "stderr",
     "output_type": "stream",
     "text": [
      "100%|██████████| 33/33 [04:26<00:00,  8.08s/it]\n"
     ]
    },
    {
     "name": "stdout",
     "output_type": "stream",
     "text": [
      "Epoch:  11\n",
      "Loss: 11.940068359375\n",
      "Val Acc: 0.89\n",
      "Epoch:  12\n"
     ]
    },
    {
     "name": "stderr",
     "output_type": "stream",
     "text": [
      "100%|██████████| 33/33 [04:26<00:00,  8.07s/it]\n"
     ]
    },
    {
     "name": "stdout",
     "output_type": "stream",
     "text": [
      "Epoch:  12\n",
      "Loss: 11.70177734375\n",
      "Val Acc: 0.89\n",
      "Epoch:  13\n"
     ]
    },
    {
     "name": "stderr",
     "output_type": "stream",
     "text": [
      "100%|██████████| 33/33 [04:26<00:00,  8.06s/it]\n"
     ]
    },
    {
     "name": "stdout",
     "output_type": "stream",
     "text": [
      "Epoch:  13\n",
      "Loss: 11.510048828125\n",
      "Val Acc: 0.89\n",
      "Epoch:  14\n"
     ]
    },
    {
     "name": "stderr",
     "output_type": "stream",
     "text": [
      "100%|██████████| 33/33 [04:26<00:00,  8.07s/it]\n"
     ]
    },
    {
     "name": "stdout",
     "output_type": "stream",
     "text": [
      "Epoch:  14\n",
      "Loss: 11.3355859375\n",
      "Val Acc: 0.89\n",
      "Epoch:  15\n"
     ]
    },
    {
     "name": "stderr",
     "output_type": "stream",
     "text": [
      "100%|██████████| 33/33 [04:26<00:00,  8.08s/it]\n"
     ]
    },
    {
     "name": "stdout",
     "output_type": "stream",
     "text": [
      "Epoch:  15\n",
      "Loss: 11.169150390625\n",
      "Val Acc: 0.89\n",
      "Epoch:  16\n"
     ]
    },
    {
     "name": "stderr",
     "output_type": "stream",
     "text": [
      "100%|██████████| 33/33 [04:26<00:00,  8.08s/it]\n"
     ]
    },
    {
     "name": "stdout",
     "output_type": "stream",
     "text": [
      "Epoch:  16\n",
      "Loss: 11.02400390625\n",
      "Val Acc: 0.89\n",
      "Epoch:  17\n"
     ]
    },
    {
     "name": "stderr",
     "output_type": "stream",
     "text": [
      "100%|██████████| 33/33 [04:26<00:00,  8.07s/it]\n"
     ]
    },
    {
     "name": "stdout",
     "output_type": "stream",
     "text": [
      "Epoch:  17\n",
      "Loss: 10.903935546875\n",
      "Val Acc: 0.9\n",
      "Epoch:  18\n"
     ]
    },
    {
     "name": "stderr",
     "output_type": "stream",
     "text": [
      "100%|██████████| 33/33 [04:25<00:00,  8.06s/it]\n"
     ]
    },
    {
     "name": "stdout",
     "output_type": "stream",
     "text": [
      "Epoch:  18\n",
      "Loss: 10.798173828125\n",
      "Val Acc: 0.9\n",
      "Epoch:  19\n"
     ]
    },
    {
     "name": "stderr",
     "output_type": "stream",
     "text": [
      "100%|██████████| 33/33 [04:26<00:00,  8.07s/it]\n"
     ]
    },
    {
     "name": "stdout",
     "output_type": "stream",
     "text": [
      "Epoch:  19\n",
      "Loss: 10.711513671875\n",
      "Val Acc: 0.9\n",
      "Epoch:  20\n"
     ]
    },
    {
     "name": "stderr",
     "output_type": "stream",
     "text": [
      "100%|██████████| 33/33 [04:26<00:00,  8.08s/it]\n"
     ]
    },
    {
     "name": "stdout",
     "output_type": "stream",
     "text": [
      "Epoch:  20\n",
      "Loss: 10.63060546875\n",
      "Val Acc: 0.9\n",
      "Epoch:  21\n"
     ]
    },
    {
     "name": "stderr",
     "output_type": "stream",
     "text": [
      "100%|██████████| 33/33 [04:26<00:00,  8.07s/it]\n"
     ]
    },
    {
     "name": "stdout",
     "output_type": "stream",
     "text": [
      "Epoch:  21\n",
      "Loss: 10.545595703125\n",
      "Val Acc: 0.9\n",
      "Epoch:  22\n"
     ]
    },
    {
     "name": "stderr",
     "output_type": "stream",
     "text": [
      "100%|██████████| 33/33 [04:26<00:00,  8.06s/it]\n"
     ]
    },
    {
     "name": "stdout",
     "output_type": "stream",
     "text": [
      "Epoch:  22\n",
      "Loss: 10.456552734375\n",
      "Val Acc: 0.9\n",
      "Epoch:  23\n"
     ]
    },
    {
     "name": "stderr",
     "output_type": "stream",
     "text": [
      "100%|██████████| 33/33 [04:26<00:00,  8.07s/it]\n"
     ]
    },
    {
     "name": "stdout",
     "output_type": "stream",
     "text": [
      "Epoch:  23\n",
      "Loss: 10.380791015625\n",
      "Val Acc: 0.9\n",
      "Epoch:  24\n"
     ]
    },
    {
     "name": "stderr",
     "output_type": "stream",
     "text": [
      "100%|██████████| 33/33 [04:26<00:00,  8.08s/it]\n"
     ]
    },
    {
     "name": "stdout",
     "output_type": "stream",
     "text": [
      "Epoch:  24\n",
      "Loss: 10.313740234375\n",
      "Val Acc: 0.91\n",
      "Epoch:  25\n"
     ]
    },
    {
     "name": "stderr",
     "output_type": "stream",
     "text": [
      "100%|██████████| 33/33 [04:26<00:00,  8.08s/it]\n"
     ]
    },
    {
     "name": "stdout",
     "output_type": "stream",
     "text": [
      "Epoch:  25\n",
      "Loss: 10.250654296875\n",
      "Val Acc: 0.91\n",
      "Epoch:  26\n"
     ]
    },
    {
     "name": "stderr",
     "output_type": "stream",
     "text": [
      "100%|██████████| 33/33 [04:26<00:00,  8.07s/it]\n"
     ]
    },
    {
     "name": "stdout",
     "output_type": "stream",
     "text": [
      "Epoch:  26\n",
      "Loss: 10.201435546875\n",
      "Val Acc: 0.9\n",
      "Epoch:  27\n"
     ]
    },
    {
     "name": "stderr",
     "output_type": "stream",
     "text": [
      "100%|██████████| 33/33 [04:25<00:00,  8.06s/it]\n"
     ]
    },
    {
     "name": "stdout",
     "output_type": "stream",
     "text": [
      "Epoch:  27\n",
      "Loss: 10.155205078125\n",
      "Val Acc: 0.9\n",
      "Epoch:  28\n"
     ]
    },
    {
     "name": "stderr",
     "output_type": "stream",
     "text": [
      "100%|██████████| 33/33 [04:26<00:00,  8.08s/it]\n"
     ]
    },
    {
     "name": "stdout",
     "output_type": "stream",
     "text": [
      "Epoch:  28\n",
      "Loss: 10.107431640625\n",
      "Val Acc: 0.9\n",
      "Epoch:  29\n"
     ]
    },
    {
     "name": "stderr",
     "output_type": "stream",
     "text": [
      "100%|██████████| 33/33 [04:26<00:00,  8.07s/it]\n"
     ]
    },
    {
     "name": "stdout",
     "output_type": "stream",
     "text": [
      "Epoch:  29\n",
      "Loss: 10.07091796875\n",
      "Val Acc: 0.9\n",
      "Epoch:  30\n"
     ]
    },
    {
     "name": "stderr",
     "output_type": "stream",
     "text": [
      "100%|██████████| 33/33 [04:26<00:00,  8.08s/it]\n"
     ]
    },
    {
     "name": "stdout",
     "output_type": "stream",
     "text": [
      "Epoch:  30\n",
      "Loss: 10.0309765625\n",
      "Val Acc: 0.9\n",
      "Epoch:  31\n"
     ]
    },
    {
     "name": "stderr",
     "output_type": "stream",
     "text": [
      "100%|██████████| 33/33 [04:26<00:00,  8.08s/it]\n"
     ]
    },
    {
     "name": "stdout",
     "output_type": "stream",
     "text": [
      "Epoch:  31\n",
      "Loss: 9.970498046875\n",
      "Val Acc: 0.91\n",
      "Epoch:  32\n"
     ]
    },
    {
     "name": "stderr",
     "output_type": "stream",
     "text": [
      "100%|██████████| 33/33 [04:25<00:00,  8.06s/it]\n"
     ]
    },
    {
     "name": "stdout",
     "output_type": "stream",
     "text": [
      "Epoch:  32\n",
      "Loss: 9.861572265625\n",
      "Val Acc: 0.91\n",
      "Epoch:  33\n"
     ]
    },
    {
     "name": "stderr",
     "output_type": "stream",
     "text": [
      "100%|██████████| 33/33 [04:26<00:00,  8.06s/it]\n"
     ]
    },
    {
     "name": "stdout",
     "output_type": "stream",
     "text": [
      "Epoch:  33\n",
      "Loss: 9.7559375\n",
      "Val Acc: 0.9\n",
      "Epoch:  34\n"
     ]
    },
    {
     "name": "stderr",
     "output_type": "stream",
     "text": [
      "100%|██████████| 33/33 [04:26<00:00,  8.08s/it]\n"
     ]
    },
    {
     "name": "stdout",
     "output_type": "stream",
     "text": [
      "Epoch:  34\n",
      "Loss: 9.932021484375\n",
      "Val Acc: 0.9\n",
      "Epoch:  35\n"
     ]
    },
    {
     "name": "stderr",
     "output_type": "stream",
     "text": [
      "100%|██████████| 33/33 [04:26<00:00,  8.08s/it]\n"
     ]
    },
    {
     "name": "stdout",
     "output_type": "stream",
     "text": [
      "Epoch:  35\n",
      "Loss: 10.07642578125\n",
      "Val Acc: 0.9\n",
      "Epoch:  36\n"
     ]
    },
    {
     "name": "stderr",
     "output_type": "stream",
     "text": [
      "100%|██████████| 33/33 [04:26<00:00,  8.08s/it]\n"
     ]
    },
    {
     "name": "stdout",
     "output_type": "stream",
     "text": [
      "Epoch:  36\n",
      "Loss: 10.158359375\n",
      "Val Acc: 0.9\n",
      "Epoch:  37\n"
     ]
    },
    {
     "name": "stderr",
     "output_type": "stream",
     "text": [
      "100%|██████████| 33/33 [04:26<00:00,  8.07s/it]\n"
     ]
    },
    {
     "name": "stdout",
     "output_type": "stream",
     "text": [
      "Epoch:  37\n",
      "Loss: 10.16732421875\n",
      "Val Acc: 0.9\n",
      "Epoch:  38\n"
     ]
    },
    {
     "name": "stderr",
     "output_type": "stream",
     "text": [
      "100%|██████████| 33/33 [04:26<00:00,  8.08s/it]\n"
     ]
    },
    {
     "name": "stdout",
     "output_type": "stream",
     "text": [
      "Epoch:  38\n",
      "Loss: 10.21947265625\n",
      "Val Acc: 0.9\n",
      "Epoch:  39\n"
     ]
    },
    {
     "name": "stderr",
     "output_type": "stream",
     "text": [
      "100%|██████████| 33/33 [04:26<00:00,  8.06s/it]\n"
     ]
    },
    {
     "name": "stdout",
     "output_type": "stream",
     "text": [
      "Epoch:  39\n",
      "Loss: 10.315830078125\n",
      "Val Acc: 0.89\n",
      "Epoch:  40\n"
     ]
    },
    {
     "name": "stderr",
     "output_type": "stream",
     "text": [
      "100%|██████████| 33/33 [04:26<00:00,  8.07s/it]\n"
     ]
    },
    {
     "name": "stdout",
     "output_type": "stream",
     "text": [
      "Epoch:  40\n",
      "Loss: 10.382001953125\n",
      "Val Acc: 0.89\n",
      "Epoch:  41\n"
     ]
    },
    {
     "name": "stderr",
     "output_type": "stream",
     "text": [
      "100%|██████████| 33/33 [04:27<00:00,  8.09s/it]\n"
     ]
    },
    {
     "name": "stdout",
     "output_type": "stream",
     "text": [
      "Epoch:  41\n",
      "Loss: 10.06966796875\n",
      "Val Acc: 0.9\n",
      "Epoch:  42\n"
     ]
    },
    {
     "name": "stderr",
     "output_type": "stream",
     "text": [
      "100%|██████████| 33/33 [04:26<00:00,  8.07s/it]\n"
     ]
    },
    {
     "name": "stdout",
     "output_type": "stream",
     "text": [
      "Epoch:  42\n",
      "Loss: 9.865009765625\n",
      "Val Acc: 0.9\n",
      "Epoch:  43\n"
     ]
    },
    {
     "name": "stderr",
     "output_type": "stream",
     "text": [
      "100%|██████████| 33/33 [04:26<00:00,  8.08s/it]\n"
     ]
    },
    {
     "name": "stdout",
     "output_type": "stream",
     "text": [
      "Epoch:  43\n",
      "Loss: 9.780341796875\n",
      "Val Acc: 0.9\n",
      "Epoch:  44\n"
     ]
    },
    {
     "name": "stderr",
     "output_type": "stream",
     "text": [
      "100%|██████████| 33/33 [04:26<00:00,  8.08s/it]\n"
     ]
    },
    {
     "name": "stdout",
     "output_type": "stream",
     "text": [
      "Epoch:  44\n",
      "Loss: 9.660341796875\n",
      "Val Acc: 0.91\n",
      "Epoch:  45\n"
     ]
    },
    {
     "name": "stderr",
     "output_type": "stream",
     "text": [
      "100%|██████████| 33/33 [04:26<00:00,  8.07s/it]\n"
     ]
    },
    {
     "name": "stdout",
     "output_type": "stream",
     "text": [
      "Epoch:  45\n",
      "Loss: 9.65337890625\n",
      "Val Acc: 0.91\n",
      "Epoch:  46\n"
     ]
    },
    {
     "name": "stderr",
     "output_type": "stream",
     "text": [
      "100%|██████████| 33/33 [04:26<00:00,  8.07s/it]\n"
     ]
    },
    {
     "name": "stdout",
     "output_type": "stream",
     "text": [
      "Epoch:  46\n",
      "Loss: 9.692470703125\n",
      "Val Acc: 0.91\n",
      "Epoch:  47\n"
     ]
    },
    {
     "name": "stderr",
     "output_type": "stream",
     "text": [
      "100%|██████████| 33/33 [04:26<00:00,  8.08s/it]\n"
     ]
    },
    {
     "name": "stdout",
     "output_type": "stream",
     "text": [
      "Epoch:  47\n",
      "Loss: 9.5552734375\n",
      "Val Acc: 0.91\n",
      "Epoch:  48\n"
     ]
    },
    {
     "name": "stderr",
     "output_type": "stream",
     "text": [
      "100%|██████████| 33/33 [04:26<00:00,  8.07s/it]\n"
     ]
    },
    {
     "name": "stdout",
     "output_type": "stream",
     "text": [
      "Epoch:  48\n",
      "Loss: 9.473564453125\n",
      "Val Acc: 0.91\n",
      "Epoch:  49\n"
     ]
    },
    {
     "name": "stderr",
     "output_type": "stream",
     "text": [
      "100%|██████████| 33/33 [04:26<00:00,  8.08s/it]\n"
     ]
    },
    {
     "name": "stdout",
     "output_type": "stream",
     "text": [
      "Epoch:  49\n",
      "Loss: 9.520146484375\n",
      "Val Acc: 0.91\n"
     ]
    },
    {
     "data": {
      "image/png": "[encoded data removed]",
      "text/plain": [
       "<Figure size 1500x400 with 2 Axes>"
      ]
     },
     "metadata": {},
     "output_type": "display_data"
    },
    {
     "data": {
      "text/plain": [
       "([2.0080943579759563,\n",
       "  0.8355034248783111,\n",
       "  0.5286276819092328,\n",
       "  0.4600414227337054,\n",
       "  0.432187004649933,\n",
       "  0.414196669470138,\n",
       "  0.4022623913741606,\n",
       "  0.3940569989131759,\n",
       "  0.3867852894036052,\n",
       "  0.37877055691034817,\n",
       "  0.3710959260478103,\n",
       "  0.3638877343386751,\n",
       "  0.3566256908638719,\n",
       "  0.3507823341774743,\n",
       "  0.3454654155504742,\n",
       "  0.3403932532580472,\n",
       "  0.33596957563790625,\n",
       "  0.3323105066533356,\n",
       "  0.32908724512302917,\n",
       "  0.32644613501170683,\n",
       "  0.32398036070519864,\n",
       "  0.3213895201218527,\n",
       "  0.3186759511460774,\n",
       "  0.3163670922765783,\n",
       "  0.3143234793026552,\n",
       "  0.3124008089584008,\n",
       "  0.31090102417938453,\n",
       "  0.3094918936422436,\n",
       "  0.3080360237447232,\n",
       "  0.3069230916959659,\n",
       "  0.30570599023878425,\n",
       "  0.30386266224741204,\n",
       "  0.30054312024998964,\n",
       "  0.29732370994049,\n",
       "  0.30269011974039195,\n",
       "  0.307091048400672,\n",
       "  0.3095881461183541,\n",
       "  0.3098612001003747,\n",
       "  0.3114504897510346,\n",
       "  0.3143870973016047,\n",
       "  0.3164038197842607,\n",
       "  0.30688502287540925,\n",
       "  0.3006478052399645,\n",
       "  0.2980676503440505,\n",
       "  0.2944104794704971,\n",
       "  0.29419820711743866,\n",
       "  0.2953895266952677,\n",
       "  0.29120840272010984,\n",
       "  0.2887182835097145,\n",
       "  0.29013765465794494],\n",
       " [1.3669802531604864,\n",
       "  0.6257332704722421,\n",
       "  0.5056184569473555,\n",
       "  0.4733108865651465,\n",
       "  0.4512731200839168,\n",
       "  0.43968082698924993,\n",
       "  0.42443813481066,\n",
       "  0.41154575258391235,\n",
       "  0.40028206273756,\n",
       "  0.38974225918737304,\n",
       "  0.3829140280354586,\n",
       "  0.37549073303434344,\n",
       "  0.3691723021587416,\n",
       "  0.36584022832949803,\n",
       "  0.3614571659016982,\n",
       "  0.35785775134217046,\n",
       "  0.3544746829794627,\n",
       "  0.3514716658688322,\n",
       "  0.34818763596087954,\n",
       "  0.3448739048847784,\n",
       "  0.34119774498941613,\n",
       "  0.33755770087704445,\n",
       "  0.3342663605045417,\n",
       "  0.33149345095258514,\n",
       "  0.3289824613575605,\n",
       "  0.32691542643498095,\n",
       "  0.3275374691157469,\n",
       "  0.32955443361778447,\n",
       "  0.331425641446805,\n",
       "  0.332445425225631,\n",
       "  0.32823674023058935,\n",
       "  0.3204721928932998,\n",
       "  0.32097688628662696,\n",
       "  0.33041609529170296,\n",
       "  0.3393158379219358,\n",
       "  0.34734873329475197,\n",
       "  0.3495162488481808,\n",
       "  0.35045125135533695,\n",
       "  0.3537090381919049,\n",
       "  0.3620345193835625,\n",
       "  0.36389268303540195,\n",
       "  0.34248451364172683,\n",
       "  0.33340945009612544,\n",
       "  0.3217576108310257,\n",
       "  0.31487759022223977,\n",
       "  0.31544498021115863,\n",
       "  0.3165354584868058,\n",
       "  0.30596909015515783,\n",
       "  0.30540825371865776,\n",
       "  0.3056669933525977],\n",
       " [0.526547619047619,\n",
       "  0.8095238095238095,\n",
       "  0.8438095238095238,\n",
       "  0.8538095238095238,\n",
       "  0.8595238095238096,\n",
       "  0.8641666666666666,\n",
       "  0.8690476190476191,\n",
       "  0.8726190476190476,\n",
       "  0.8770238095238095,\n",
       "  0.8820238095238095,\n",
       "  0.8846428571428572,\n",
       "  0.8889285714285714,\n",
       "  0.8911904761904762,\n",
       "  0.8909523809523809,\n",
       "  0.8919047619047619,\n",
       "  0.8935714285714286,\n",
       "  0.8945238095238095,\n",
       "  0.8961904761904762,\n",
       "  0.8977380952380952,\n",
       "  0.8977380952380952,\n",
       "  0.8991666666666667,\n",
       "  0.9001190476190476,\n",
       "  0.9032142857142857,\n",
       "  0.9046428571428572,\n",
       "  0.9057142857142857,\n",
       "  0.9060714285714285,\n",
       "  0.9044047619047619,\n",
       "  0.9027380952380952,\n",
       "  0.9019047619047619,\n",
       "  0.900952380952381,\n",
       "  0.9028571428571428,\n",
       "  0.9067857142857143,\n",
       "  0.9084523809523809,\n",
       "  0.903452380952381,\n",
       "  0.8996428571428572,\n",
       "  0.8971428571428571,\n",
       "  0.8960714285714285,\n",
       "  0.8967857142857143,\n",
       "  0.8952380952380953,\n",
       "  0.8938095238095238,\n",
       "  0.8921428571428571,\n",
       "  0.8995238095238095,\n",
       "  0.9011904761904762,\n",
       "  0.9044047619047619,\n",
       "  0.9094047619047619,\n",
       "  0.9102380952380953,\n",
       "  0.9091666666666667,\n",
       "  0.9111904761904762,\n",
       "  0.9108333333333334,\n",
       "  0.9084523809523809])"
      ]
     },
     "execution_count": 44,
     "metadata": {},
     "output_type": "execute_result"
    }
   ],
   "source": [
    "import os\n",
    "import cv2\n",
    "import numpy as np\n",
    "\n",
    "path = 'data/MNIST'\n",
    "\n",
    "class_paths = os.listdir(path)\n",
    "\n",
    "x_all = []\n",
    "y_all = []\n",
    "\n",
    "for cls_path in class_paths:\n",
    "    img_paths = os.listdir(os.path.join(path, cls_path))\n",
    "    for img_path in img_paths:\n",
    "        img = cv2.imread(os.path.join(path, cls_path, img_path), cv2.IMREAD_GRAYSCALE)\n",
    "        img = cv2.resize(img, (28, 28))\n",
    "        x_all.append(img)\n",
    "        y_all.append(int(cls_path))\n",
    "x_all = np.array(x_all)\n",
    "y_all = np.array(y_all)\n",
    "\n",
    "x_all = x_all.reshape(-1, 1, 28, 28) / 255\n",
    "\n",
    "# one-hot encoding\n",
    "y_one_hot = np.zeros((len(y_all), 10))\n",
    "y_one_hot[np.arange(len(y_all)), y_all] = 1\n",
    "\n",
    "# shuffle data\n",
    "idx = np.arange(len(x_all))\n",
    "np.random.shuffle(idx)\n",
    "x_all = x_all[idx]\n",
    "y_one_hot = y_one_hot[idx]\n",
    "\n",
    "\n",
    "\n",
    "# split train and val\n",
    "split_ratio = 0.8\n",
    "split_idx = int(len(x_all) * split_ratio)\n",
    "x_train = x_all[:split_idx]\n",
    "y_train = y_one_hot[:split_idx]\n",
    "x_val = x_all[split_idx:]\n",
    "y_val = y_one_hot[split_idx:]\n",
    "\n",
    "# making some dummy data about 3 images with 3 channels and labels\n",
    "# images = np.random.randint(0, 255, size=(4, 3, 28, 28)).astype(np.float32) / 255\n",
    "# labels = np.array([[0, 1, 0], [0, 0, 1], [1, 0, 0], [0, 1, 0]])\n",
    "\n",
    "model = MyModel([Conv2d(1, 9, (7, 7), 1, 0), \n",
    "                LeckyReLU(),\n",
    "                Conv2d(9, 3, (5, 5), 1, 0),\n",
    "                LeckyReLU(),\n",
    "                Conv2d(3, 1, (1, 1), 1, 0),\n",
    "                LeckyReLU(),\n",
    "                Flatten(),\n",
    "                Linear(1*18*18, 10),\n",
    "                Softmax()])\n",
    "\n",
    "hyper_params = {    \n",
    "    'lr': 0.005,\n",
    "    'epoch': 50,\n",
    "    'batch_size': 1024,\n",
    "    'alpha': 0.9\n",
    "}\n",
    "model.train(x_train, y_train, x_val, y_val, CrossEntropyLoss, hyper_params, show_plot=True)\n",
    "    "
   ]
  },
  {
   "cell_type": "code",
   "execution_count": 72,
   "metadata": {},
   "outputs": [
    {
     "data": {
      "text/plain": [
       "array([8])"
      ]
     },
     "execution_count": 72,
     "metadata": {},
     "output_type": "execute_result"
    },
    {
     "data": {
      "image/png": "[encoded data removed]",
      "text/plain": [
       "<Figure size 640x480 with 1 Axes>"
      ]
     },
     "metadata": {},
     "output_type": "display_data"
    }
   ],
   "source": [
    "import matplotlib.pyplot as plt\n",
    "idx = 900\n",
    "plt.imshow(x_val[idx].reshape(28, 28), cmap='gray')\n",
    "model.get_pred(np.expand_dims(x_val[idx], axis=0), with_onehot=False)\n",
    "\n"
   ]
  },
  {
   "cell_type": "code",
   "execution_count": 55,
   "metadata": {},
   "outputs": [
    {
     "data": {
      "text/plain": [
       "<matplotlib.image.AxesImage at 0x7ff8941d0af0>"
      ]
     },
     "execution_count": 55,
     "metadata": {},
     "output_type": "execute_result"
    },
    {
     "data": {
      "image/png": "[encoded data removed]",
      "text/plain": [
       "<Figure size 640x480 with 1 Axes>"
      ]
     },
     "metadata": {},
     "output_type": "display_data"
    }
   ],
   "source": [
    "model.layers[0].w.shape\n",
    "\n",
    "plt.imshow(model.layers[0].w[8, 0], cmap='gray')"
   ]
  },
  {
   "cell_type": "code",
   "execution_count": 85,
   "metadata": {},
   "outputs": [
    {
     "data": {
      "text/plain": [
       "<matplotlib.image.AxesImage at 0x7ff89c0b7820>"
      ]
     },
     "execution_count": 85,
     "metadata": {},
     "output_type": "execute_result"
    },
    {
     "data": {
      "image/png": "[encoded data removed]",
      "text/plain": [
       "<Figure size 640x480 with 1 Axes>"
      ]
     },
     "metadata": {},
     "output_type": "display_data"
    }
   ],
   "source": [
    "model.layers[0].params_delta['dW'].shape\n",
    "plt.imshow(model.layers[0].params_delta['dW'][0].transpose(1, 2, 0), cmap='gray')"
   ]
  },
  {
   "cell_type": "code",
   "execution_count": 151,
   "metadata": {},
   "outputs": [
    {
     "name": "stdout",
     "output_type": "stream",
     "text": [
      "[5]\n"
     ]
    },
    {
     "data": {
      "image/png": "[encoded data removed]",
      "text/plain": [
       "<Figure size 1000x1000 with 9 Axes>"
      ]
     },
     "metadata": {},
     "output_type": "display_data"
    }
   ],
   "source": [
    "model.layers[2].in_feat[0].mean(axis=0, keepdims=True).shape\n",
    "\n",
    "target_layer = 1\n",
    "sample_idx = 521\n",
    "print(model.get_pred(np.expand_dims(x_val[sample_idx], axis=0), with_onehot=False))\n",
    "\n",
    "plt.figure(figsize=(10, 10))\n",
    "plot_size = np.ceil(np.sqrt(len(model.layers[target_layer].in_feat[0]))).astype(int)\n",
    "for idx, activation in enumerate(model.layers[target_layer].in_feat[0]):\n",
    "    plt.subplot(plot_size, plot_size, idx + 1)    \n",
    "    plt.imshow(np.expand_dims(activation, axis=0).transpose(1, 2, 0), cmap='gray')\n",
    "    "
   ]
  },
  {
   "cell_type": "code",
   "execution_count": 183,
   "metadata": {},
   "outputs": [
    {
     "name": "stdout",
     "output_type": "stream",
     "text": [
      "Files already downloaded and verified\n",
      "Epoch:  0\n"
     ]
    },
    {
     "name": "stderr",
     "output_type": "stream",
     "text": [
      "train:: 100%|██████████| 625/625 [11:51<00:00,  1.14s/it]\n"
     ]
    },
    {
     "name": "stdout",
     "output_type": "stream",
     "text": [
      "Epoch:  0\n",
      "Loss: 1347.9640625\n"
     ]
    },
    {
     "name": "stderr",
     "output_type": "stream",
     "text": [
      "val:: 100%|██████████| 157/157 [00:15<00:00, 10.24it/s]\n"
     ]
    },
    {
     "name": "stdout",
     "output_type": "stream",
     "text": [
      "Val Acc: 0.0\n",
      "Epoch:  1\n"
     ]
    },
    {
     "name": "stderr",
     "output_type": "stream",
     "text": [
      "train::   4%|▍         | 24/625 [00:27<11:30,  1.15s/it]\n"
     ]
    },
    {
     "ename": "KeyboardInterrupt",
     "evalue": "",
     "output_type": "error",
     "traceback": [
      "\u001b[0;31m---------------------------------------------------------------------------\u001b[0m",
      "\u001b[0;31mKeyboardInterrupt\u001b[0m                         Traceback (most recent call last)",
      "\u001b[1;32m/media/eddy/A016FAC816FA9E8A/Programs/NumpyImplementNN/conv_implement.ipynb 儲存格 17\u001b[0m line \u001b[0;36m2\n\u001b[1;32m     <a href='vscode-notebook-cell:/media/eddy/A016FAC816FA9E8A/Programs/NumpyImplementNN/conv_implement.ipynb#X23sZmlsZQ%3D%3D?line=14'>15</a>\u001b[0m model \u001b[39m=\u001b[39m MyModel([Conv2d(\u001b[39m3\u001b[39m, \u001b[39m9\u001b[39m, (\u001b[39m7\u001b[39m, \u001b[39m7\u001b[39m), \u001b[39m1\u001b[39m, \u001b[39m0\u001b[39m), \n\u001b[1;32m     <a href='vscode-notebook-cell:/media/eddy/A016FAC816FA9E8A/Programs/NumpyImplementNN/conv_implement.ipynb#X23sZmlsZQ%3D%3D?line=15'>16</a>\u001b[0m                 LeckyReLU(),\n\u001b[1;32m     <a href='vscode-notebook-cell:/media/eddy/A016FAC816FA9E8A/Programs/NumpyImplementNN/conv_implement.ipynb#X23sZmlsZQ%3D%3D?line=16'>17</a>\u001b[0m                 Conv2d(\u001b[39m9\u001b[39m, \u001b[39m3\u001b[39m, (\u001b[39m5\u001b[39m, \u001b[39m5\u001b[39m), \u001b[39m1\u001b[39m, \u001b[39m0\u001b[39m),\n\u001b[0;32m   (...)\u001b[0m\n\u001b[1;32m     <a href='vscode-notebook-cell:/media/eddy/A016FAC816FA9E8A/Programs/NumpyImplementNN/conv_implement.ipynb#X23sZmlsZQ%3D%3D?line=19'>20</a>\u001b[0m                 Linear(\u001b[39m3\u001b[39m\u001b[39m*\u001b[39m\u001b[39m22\u001b[39m\u001b[39m*\u001b[39m\u001b[39m22\u001b[39m, \u001b[39m10\u001b[39m),\n\u001b[1;32m     <a href='vscode-notebook-cell:/media/eddy/A016FAC816FA9E8A/Programs/NumpyImplementNN/conv_implement.ipynb#X23sZmlsZQ%3D%3D?line=20'>21</a>\u001b[0m                 Softmax()])\n\u001b[1;32m     <a href='vscode-notebook-cell:/media/eddy/A016FAC816FA9E8A/Programs/NumpyImplementNN/conv_implement.ipynb#X23sZmlsZQ%3D%3D?line=22'>23</a>\u001b[0m hyper_params \u001b[39m=\u001b[39m {    \n\u001b[1;32m     <a href='vscode-notebook-cell:/media/eddy/A016FAC816FA9E8A/Programs/NumpyImplementNN/conv_implement.ipynb#X23sZmlsZQ%3D%3D?line=23'>24</a>\u001b[0m     \u001b[39m'\u001b[39m\u001b[39mlr\u001b[39m\u001b[39m'\u001b[39m: \u001b[39m0.005\u001b[39m,\n\u001b[1;32m     <a href='vscode-notebook-cell:/media/eddy/A016FAC816FA9E8A/Programs/NumpyImplementNN/conv_implement.ipynb#X23sZmlsZQ%3D%3D?line=24'>25</a>\u001b[0m     \u001b[39m'\u001b[39m\u001b[39mepoch\u001b[39m\u001b[39m'\u001b[39m: \u001b[39m10\u001b[39m,\n\u001b[1;32m     <a href='vscode-notebook-cell:/media/eddy/A016FAC816FA9E8A/Programs/NumpyImplementNN/conv_implement.ipynb#X23sZmlsZQ%3D%3D?line=25'>26</a>\u001b[0m     \u001b[39m'\u001b[39m\u001b[39mbatch_size\u001b[39m\u001b[39m'\u001b[39m: \u001b[39m64\u001b[39m,\n\u001b[1;32m     <a href='vscode-notebook-cell:/media/eddy/A016FAC816FA9E8A/Programs/NumpyImplementNN/conv_implement.ipynb#X23sZmlsZQ%3D%3D?line=26'>27</a>\u001b[0m     \u001b[39m'\u001b[39m\u001b[39malpha\u001b[39m\u001b[39m'\u001b[39m: \u001b[39m0.9\u001b[39m\n\u001b[1;32m     <a href='vscode-notebook-cell:/media/eddy/A016FAC816FA9E8A/Programs/NumpyImplementNN/conv_implement.ipynb#X23sZmlsZQ%3D%3D?line=27'>28</a>\u001b[0m }\n\u001b[0;32m---> <a href='vscode-notebook-cell:/media/eddy/A016FAC816FA9E8A/Programs/NumpyImplementNN/conv_implement.ipynb#X23sZmlsZQ%3D%3D?line=28'>29</a>\u001b[0m model\u001b[39m.\u001b[39;49mtrain_with_dataset(train_dataset, CrossEntropyLoss, hyper_params, show_plot\u001b[39m=\u001b[39;49m\u001b[39mTrue\u001b[39;49;00m)\n",
      "\u001b[1;32m/media/eddy/A016FAC816FA9E8A/Programs/NumpyImplementNN/conv_implement.ipynb 儲存格 17\u001b[0m line \u001b[0;36m1\n\u001b[1;32m    <a href='vscode-notebook-cell:/media/eddy/A016FAC816FA9E8A/Programs/NumpyImplementNN/conv_implement.ipynb#X23sZmlsZQ%3D%3D?line=127'>128</a>\u001b[0m Y_batch \u001b[39m=\u001b[39m np\u001b[39m.\u001b[39meye(\u001b[39m10\u001b[39m)[Y_batch]\n\u001b[1;32m    <a href='vscode-notebook-cell:/media/eddy/A016FAC816FA9E8A/Programs/NumpyImplementNN/conv_implement.ipynb#X23sZmlsZQ%3D%3D?line=128'>129</a>\u001b[0m \u001b[39mself\u001b[39m\u001b[39m.\u001b[39mforward(X_batch)\n\u001b[0;32m--> <a href='vscode-notebook-cell:/media/eddy/A016FAC816FA9E8A/Programs/NumpyImplementNN/conv_implement.ipynb#X23sZmlsZQ%3D%3D?line=129'>130</a>\u001b[0m \u001b[39mself\u001b[39;49m\u001b[39m.\u001b[39;49mbackward(X_batch, Y_batch)\n\u001b[1;32m    <a href='vscode-notebook-cell:/media/eddy/A016FAC816FA9E8A/Programs/NumpyImplementNN/conv_implement.ipynb#X23sZmlsZQ%3D%3D?line=130'>131</a>\u001b[0m \u001b[39mself\u001b[39m\u001b[39m.\u001b[39mupdate_params({\u001b[39m'\u001b[39m\u001b[39mlr\u001b[39m\u001b[39m'\u001b[39m: hyper_params[\u001b[39m'\u001b[39m\u001b[39mlr\u001b[39m\u001b[39m'\u001b[39m], \u001b[39m'\u001b[39m\u001b[39malpha\u001b[39m\u001b[39m'\u001b[39m: hyper_params[\u001b[39m'\u001b[39m\u001b[39malpha\u001b[39m\u001b[39m'\u001b[39m]})\n\u001b[1;32m    <a href='vscode-notebook-cell:/media/eddy/A016FAC816FA9E8A/Programs/NumpyImplementNN/conv_implement.ipynb#X23sZmlsZQ%3D%3D?line=131'>132</a>\u001b[0m loss \u001b[39m+\u001b[39m\u001b[39m=\u001b[39m loss_func\u001b[39m.\u001b[39mcal_loss(\u001b[39mself\u001b[39m\u001b[39m.\u001b[39mget_pred(X_batch, with_onehot\u001b[39m=\u001b[39m\u001b[39mTrue\u001b[39;00m), Y_batch)\n",
      "\u001b[1;32m/media/eddy/A016FAC816FA9E8A/Programs/NumpyImplementNN/conv_implement.ipynb 儲存格 17\u001b[0m line \u001b[0;36m3\n\u001b[1;32m     <a href='vscode-notebook-cell:/media/eddy/A016FAC816FA9E8A/Programs/NumpyImplementNN/conv_implement.ipynb#X23sZmlsZQ%3D%3D?line=24'>25</a>\u001b[0m dLdZ \u001b[39m=\u001b[39m label\n\u001b[1;32m     <a href='vscode-notebook-cell:/media/eddy/A016FAC816FA9E8A/Programs/NumpyImplementNN/conv_implement.ipynb#X23sZmlsZQ%3D%3D?line=26'>27</a>\u001b[0m \u001b[39mfor\u001b[39;00m idx \u001b[39min\u001b[39;00m \u001b[39mrange\u001b[39m(idx_maxlayer, \u001b[39m-\u001b[39m\u001b[39m1\u001b[39m, \u001b[39m-\u001b[39m\u001b[39m1\u001b[39m):\n\u001b[1;32m     <a href='vscode-notebook-cell:/media/eddy/A016FAC816FA9E8A/Programs/NumpyImplementNN/conv_implement.ipynb#X23sZmlsZQ%3D%3D?line=27'>28</a>\u001b[0m     \u001b[39m# 倒敘遍歷\u001b[39;00m\n\u001b[0;32m---> <a href='vscode-notebook-cell:/media/eddy/A016FAC816FA9E8A/Programs/NumpyImplementNN/conv_implement.ipynb#X23sZmlsZQ%3D%3D?line=29'>30</a>\u001b[0m     dLdZ \u001b[39m=\u001b[39m \u001b[39mself\u001b[39;49m\u001b[39m.\u001b[39;49mlayers[idx]\u001b[39m.\u001b[39;49mbackward(delta\u001b[39m=\u001b[39;49mdLdZ)\n",
      "File \u001b[0;32m/media/eddy/A016FAC816FA9E8A/Programs/NumpyImplementNN/my_nn_lib/layers/conv.py:59\u001b[0m, in \u001b[0;36mConv2d.backward\u001b[0;34m(self, delta)\u001b[0m\n\u001b[1;32m     51\u001b[0m \u001b[39mdef\u001b[39;00m \u001b[39mbackward\u001b[39m(\u001b[39mself\u001b[39m, delta):\n\u001b[1;32m     52\u001b[0m     \u001b[39m# delta : (N, out_c, out_h, out_w)\u001b[39;00m\n\u001b[1;32m     53\u001b[0m     \n\u001b[0;32m   (...)\u001b[0m\n\u001b[1;32m     56\u001b[0m \n\u001b[1;32m     57\u001b[0m     \u001b[39m# delta = np.mean(delta, axis=0, keepdims=True)\u001b[39;00m\n\u001b[0;32m---> 59\u001b[0m     dLdZ \u001b[39m=\u001b[39m \u001b[39mself\u001b[39;49m\u001b[39m.\u001b[39;49mcal_dLdZ(delta, \u001b[39mself\u001b[39;49m\u001b[39m.\u001b[39;49mw)\n\u001b[1;32m     60\u001b[0m     dW, db \u001b[39m=\u001b[39m \u001b[39mself\u001b[39m\u001b[39m.\u001b[39mcal_dLdW(\u001b[39mself\u001b[39m\u001b[39m.\u001b[39min_feat, delta)\n\u001b[1;32m     61\u001b[0m     \u001b[39mself\u001b[39m\u001b[39m.\u001b[39mparams_delta[\u001b[39m'\u001b[39m\u001b[39mdW\u001b[39m\u001b[39m'\u001b[39m] \u001b[39m=\u001b[39m dW\n",
      "File \u001b[0;32m/media/eddy/A016FAC816FA9E8A/Programs/NumpyImplementNN/my_nn_lib/layers/conv.py:86\u001b[0m, in \u001b[0;36mConv2d.cal_dLdZ\u001b[0;34m(self, delta, filter)\u001b[0m\n\u001b[1;32m     83\u001b[0m dilated_delta \u001b[39m=\u001b[39m np\u001b[39m.\u001b[39mtile(dilated_delta, (\u001b[39m1\u001b[39m, \u001b[39mself\u001b[39m\u001b[39m.\u001b[39min_channels, \u001b[39m1\u001b[39m, \u001b[39m1\u001b[39m))\n\u001b[1;32m     84\u001b[0m \u001b[39m# dilated_delta -> (N, ori_c*convd_c, convd_h, convd_w)\u001b[39;00m\n\u001b[0;32m---> 86\u001b[0m dLdZ \u001b[39m=\u001b[39m \u001b[39mself\u001b[39;49m\u001b[39m.\u001b[39;49mt_convolution(dilated_delta, \u001b[39mfilter\u001b[39;49m, stride\u001b[39m=\u001b[39;49m\u001b[39m1\u001b[39;49m, mode\u001b[39m=\u001b[39;49m\u001b[39m\"\u001b[39;49m\u001b[39mdLdZ\u001b[39;49m\u001b[39m\"\u001b[39;49m)\n\u001b[1;32m     88\u001b[0m \u001b[39mreturn\u001b[39;00m dLdZ\n",
      "File \u001b[0;32m/media/eddy/A016FAC816FA9E8A/Programs/NumpyImplementNN/my_nn_lib/layers/conv.py:254\u001b[0m, in \u001b[0;36mConv2d.t_convolution\u001b[0;34m(self, input_feat, filter, stride, mode)\u001b[0m\n\u001b[1;32m    252\u001b[0m     input_feat \u001b[39m=\u001b[39m np\u001b[39m.\u001b[39mpad(input_feat, ((\u001b[39m0\u001b[39m, \u001b[39m0\u001b[39m), (\u001b[39m0\u001b[39m, \u001b[39m0\u001b[39m), (\u001b[39mself\u001b[39m\u001b[39m.\u001b[39mpadding, \u001b[39mself\u001b[39m\u001b[39m.\u001b[39mpadding), (\u001b[39mself\u001b[39m\u001b[39m.\u001b[39mpadding, \u001b[39mself\u001b[39m\u001b[39m.\u001b[39mpadding)), \u001b[39m'\u001b[39m\u001b[39mconstant\u001b[39m\u001b[39m'\u001b[39m, constant_values\u001b[39m=\u001b[39m\u001b[39m0\u001b[39m)\n\u001b[1;32m    253\u001b[0m start \u001b[39m=\u001b[39m time\u001b[39m.\u001b[39mtime()\n\u001b[0;32m--> 254\u001b[0m im2col_feat \u001b[39m=\u001b[39m \u001b[39mself\u001b[39;49m\u001b[39m.\u001b[39;49mt_im2col(input_feat, N, kh, kw, ori_h, ori_w, stride, mode)\n\u001b[1;32m    255\u001b[0m logging\u001b[39m.\u001b[39minfo(\u001b[39mf\u001b[39m\u001b[39m\"\u001b[39m\u001b[39mt_im2col time:\u001b[39m\u001b[39m{\u001b[39;00mtime\u001b[39m.\u001b[39mtime()\u001b[39m \u001b[39m\u001b[39m-\u001b[39m\u001b[39m \u001b[39mstart\u001b[39m}\u001b[39;00m\u001b[39m \u001b[39m\u001b[39m\"\u001b[39m)\n\u001b[1;32m    257\u001b[0m \u001b[39m# filter: (out_c, in_c, kh, kw) -transpose-> (in_c, kh, kw, out_c) -reshape-> (in_c*kh*kw, out_c)\u001b[39;00m\n",
      "File \u001b[0;32m/media/eddy/A016FAC816FA9E8A/Programs/NumpyImplementNN/my_nn_lib/layers/conv.py:221\u001b[0m, in \u001b[0;36mConv2d.t_im2col\u001b[0;34m(self, input_feat, N, kh, kw, out_h, out_w, stride, mode)\u001b[0m\n\u001b[1;32m    218\u001b[0m i3 \u001b[39m=\u001b[39m np\u001b[39m.\u001b[39mtile(np\u001b[39m.\u001b[39marange(out_w) \u001b[39m*\u001b[39m stride, out_h)\n\u001b[1;32m    220\u001b[0m \u001b[39m# 使用高級索引一次性獲取所有窗口\u001b[39;00m\n\u001b[0;32m--> 221\u001b[0m im2col_feat \u001b[39m=\u001b[39m input_feat[:, i0[\u001b[39mNone\u001b[39;49;00m, :] \u001b[39m+\u001b[39;49m i1[:, \u001b[39mNone\u001b[39;49;00m],\n\u001b[1;32m    222\u001b[0m                 i2[\u001b[39mNone\u001b[39;49;00m, :] \u001b[39m+\u001b[39;49m i3[:, \u001b[39mNone\u001b[39;49;00m], :]\n\u001b[1;32m    223\u001b[0m \u001b[39mif\u001b[39;00m mode \u001b[39m==\u001b[39m \u001b[39m\"\u001b[39m\u001b[39mdLdW\u001b[39m\u001b[39m\"\u001b[39m:\n\u001b[1;32m    224\u001b[0m     \u001b[39m# im2col_feat  : (N*kh*kw, ori_c, dconvd_h, dconvd_w) \u001b[39;00m\n\u001b[1;32m    225\u001b[0m     \u001b[39m#             -> (ori_c, N*kh*kw, dconvd_h, dconvd_w) \u001b[39;00m\n\u001b[1;32m    226\u001b[0m     \u001b[39m#             -> (ori_c, kh*kw , N*dconvd_h*dconvd_w)\u001b[39;00m\n\u001b[1;32m    227\u001b[0m     \u001b[39mreturn\u001b[39;00m np\u001b[39m.\u001b[39marray(im2col_feat)\u001b[39m.\u001b[39mtranspose(\u001b[39m1\u001b[39m, \u001b[39m0\u001b[39m, \u001b[39m2\u001b[39m, \u001b[39m3\u001b[39m)\u001b[39m.\u001b[39mreshape(\u001b[39m-\u001b[39m\u001b[39m1\u001b[39m, out_h \u001b[39m*\u001b[39m out_w, N \u001b[39m*\u001b[39m kh \u001b[39m*\u001b[39m kw)\n",
      "\u001b[0;31mKeyboardInterrupt\u001b[0m: "
     ]
    }
   ],
   "source": [
    "import torch\n",
    "from torchvision import datasets, transforms\n",
    "\n",
    "\n",
    "\n",
    "# 載入訓練和測試資料集\n",
    "transform = transforms.Compose([\n",
    "            transforms.ToTensor(),\n",
    "            transforms.Normalize((0.5, 0.5, 0.5), (0.5, 0.5, 0.5))\n",
    "        ])\n",
    "train_dataset = datasets.CIFAR10(root='./data', train=True, download=True, transform=transform)\n",
    "\n",
    "\n",
    "\n",
    "model = MyModel([Conv2d(3, 9, (7, 7), 1, 0), \n",
    "                LeckyReLU(),\n",
    "                Conv2d(9, 3, (5, 5), 1, 0),\n",
    "                LeckyReLU(),\n",
    "                Flatten(),\n",
    "                Linear(3*22*22, 10),\n",
    "                Softmax()])\n",
    "\n",
    "hyper_params = {    \n",
    "    'lr': 0.005,\n",
    "    'epoch': 10,\n",
    "    'batch_size': 64,\n",
    "    'alpha': 0.9\n",
    "}\n",
    "model.train_with_dataset(train_dataset, CrossEntropyLoss, hyper_params, show_plot=True)\n",
    "\n"
   ]
  },
  {
   "cell_type": "code",
   "execution_count": 168,
   "metadata": {},
   "outputs": [
    {
     "data": {
      "text/plain": [
       "(50000, 32, 32, 3)"
      ]
     },
     "execution_count": 168,
     "metadata": {},
     "output_type": "execute_result"
    }
   ],
   "source": [
    "train_loader.dataset.dataset.data.shape"
   ]
  }
 ],
 "metadata": {
  "kernelspec": {
   "display_name": "sparsedrive",
   "language": "python",
   "name": "python3"
  },
  "language_info": {
   "codemirror_mode": {
    "name": "ipython",
    "version": 3
   },
   "file_extension": ".py",
   "mimetype": "text/x-python",
   "name": "python",
   "nbconvert_exporter": "python",
   "pygments_lexer": "ipython3",
   "version": "3.8.19"
  }
 },
 "nbformat": 4,
 "nbformat_minor": 2
}
